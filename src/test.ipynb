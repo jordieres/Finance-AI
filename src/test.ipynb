{
 "cells": [
  {
   "cell_type": "code",
   "execution_count": 1,
   "metadata": {},
   "outputs": [
    {
     "name": "stderr",
     "output_type": "stream",
     "text": [
      "d:\\Users\\vvall\\anaconda3\\envs\\venv\\lib\\site-packages\\tqdm\\auto.py:22: TqdmWarning: IProgress not found. Please update jupyter and ipywidgets. See https://ipywidgets.readthedocs.io/en/stable/user_install.html\n",
      "  from .autonotebook import tqdm as notebook_tqdm\n"
     ]
    }
   ],
   "source": [
    "import torch\n",
    "import torch.nn as nn\n",
    "import torch.nn.functional as F\n",
    "import torch.onnx as onnx\n"
   ]
  },
  {
   "cell_type": "code",
   "execution_count": 2,
   "metadata": {},
   "outputs": [],
   "source": [
    "class TransformerL(nn.Module):\n",
    "    \"\"\"\n",
    "    Linear transformer-based model for time series forecasting.\n",
    "    \"\"\"\n",
    "    def __init__(self, input_dim: int, embed_dim: int, num_layers: int, num_heads: int, dropout: float):\n",
    "        super(TransformerL, self).__init__()\n",
    "        self.input_dim = input_dim\n",
    "        self.embed_dim = embed_dim\n",
    "        self.num_layers = num_layers\n",
    "        self.num_heads = num_heads\n",
    "        self.dropout = dropout\n",
    "        \n",
    "        self.embedding = nn.Linear(self.input_dim, self.embed_dim)        \n",
    "        self.encoder_layers = nn.ModuleList([nn.TransformerEncoderLayer(self.embed_dim, self.num_heads, dim_feedforward=4*self.embed_dim, dropout=self.dropout)\n",
    "                                             for _ in range(self.num_layers)])\n",
    "        self.output_layer = nn.Linear(self.embed_dim, 1)\n",
    "\n",
    "    def forward(self, src) -> torch.Tensor:\n",
    "        \"\"\"\n",
    "        Forward pass of the Transformer model.\n",
    "        \n",
    "        Parameters\n",
    "        ----------\n",
    "        src : torch.Tensor\n",
    "            Input tensor of shape (batch_size, seq_length, input_dim).\n",
    "        \n",
    "        Returns\n",
    "        -------\n",
    "        torch.Tensor\n",
    "            Output tensor of shape (batch_size, seq_length, 1).\n",
    "        \"\"\"\n",
    "        src_embedded = self.embedding(src)\n",
    "        src_embedded = src_embedded.permute(1, 0, 2)\n",
    "\n",
    "        for encoder in self.encoder_layers:\n",
    "            src_embedded = encoder(src_embedded)\n",
    "\n",
    "        output = self.output_layer(src_embedded)\n",
    "        return output"
   ]
  },
  {
   "cell_type": "code",
   "execution_count": 3,
   "metadata": {},
   "outputs": [],
   "source": [
    "model_m = TransformerL(input_dim=10, embed_dim=64, num_layers=2, num_heads=8, dropout=0.01)\n",
    "\n",
    "# Dummy input tensor (batch_size, seq_length, input_dim)\n",
    "dummy_input = torch.randn(8, 5, 10)\n",
    "\n",
    "# Exportar el modelo a ONNX\n",
    "onnx.export(model_m, dummy_input, \"multi-transformerL.onnx\", input_names=['input'], output_names=['output'], dynamic_axes={'input': {0: 'batch_size', 1: 'seq_length'}, 'output': {0: 'batch_size', 1: 'seq_length'}})"
   ]
  },
  {
   "cell_type": "code",
   "execution_count": null,
   "metadata": {},
   "outputs": [],
   "source": []
  }
 ],
 "metadata": {
  "language_info": {
   "name": "python"
  }
 },
 "nbformat": 4,
 "nbformat_minor": 2
}
