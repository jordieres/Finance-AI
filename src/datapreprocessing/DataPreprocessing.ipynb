{
 "cells": [
  {
   "cell_type": "code",
   "execution_count": 1,
   "metadata": {},
   "outputs": [
    {
     "ename": "ModuleNotFoundError",
     "evalue": "No module named 'session_info'",
     "output_type": "error",
     "traceback": [
      "\u001b[0;31m---------------------------------------------------------------------------\u001b[0m",
      "\u001b[0;31mModuleNotFoundError\u001b[0m                       Traceback (most recent call last)",
      "Cell \u001b[0;32mIn[1], line 22\u001b[0m\n\u001b[1;32m     20\u001b[0m warnings\u001b[38;5;241m.\u001b[39msimplefilter(\u001b[38;5;124m'\u001b[39m\u001b[38;5;124mignore\u001b[39m\u001b[38;5;124m'\u001b[39m)\n\u001b[1;32m     21\u001b[0m \u001b[38;5;28;01mimport\u001b[39;00m \u001b[38;5;21;01mos\u001b[39;00m\u001b[38;5;241m,\u001b[39m \u001b[38;5;21;01mtime\u001b[39;00m\u001b[38;5;241m,\u001b[39m \u001b[38;5;21;01mgc\u001b[39;00m\u001b[38;5;241m,\u001b[39m \u001b[38;5;21;01msys\u001b[39;00m\u001b[38;5;241m,\u001b[39m \u001b[38;5;21;01mio\u001b[39;00m\n\u001b[0;32m---> 22\u001b[0m \u001b[38;5;28;01mimport\u001b[39;00m \u001b[38;5;21;01mdatetime\u001b[39;00m\u001b[38;5;241m,\u001b[39m \u001b[38;5;21;01mpickle\u001b[39;00m\u001b[38;5;241m,\u001b[39m \u001b[38;5;21;01msession_info\u001b[39;00m\n\u001b[1;32m     23\u001b[0m \u001b[38;5;28;01mimport\u001b[39;00m \u001b[38;5;21;01mwarnings\u001b[39;00m\u001b[38;5;241m,\u001b[39m \u001b[38;5;21;01mrandom\u001b[39;00m\u001b[38;5;241m,\u001b[39m \u001b[38;5;21;01mmath\u001b[39;00m\n\u001b[1;32m     24\u001b[0m \u001b[38;5;66;03m#\u001b[39;00m\n",
      "\u001b[0;31mModuleNotFoundError\u001b[0m: No module named 'session_info'"
     ]
    }
   ],
   "source": [
    "# pip install keras-self-attention\n",
    "import os, time, gc, sys, io\n",
    "import datetime, pickle\n",
    "import warnings, random, pdb\n",
    "\n",
    "import pandas as pd\n",
    "import seaborn as sns\n",
    "import matplotlib as mpl\n",
    "import matplotlib.pyplot as plt\n",
    "import numpy as np\n",
    "import mpl_toolkits.axisartist as AA\n",
    "import os\n",
    "import pickle\n",
    "\n",
    "from scipy import stats\n",
    "from pandas import Series\n",
    "from numpy.lib.stride_tricks import sliding_window_view\n",
    "\n",
    "warnings.filterwarnings('ignore')\n",
    "warnings.simplefilter('ignore')\n",
    "import os, time, gc, sys, io\n",
    "import datetime, pickle, session_info\n",
    "import warnings, random, math\n",
    "#\n",
    "import pandas as pd\n",
    "import seaborn as sns\n",
    "import matplotlib as mpl\n",
    "import matplotlib.pyplot as plt\n",
    "import numpy as np\n",
    "import tensorflow as tf\n",
    "import mpl_toolkits.axisartist as AA\n",
    "#\n"
   ]
  },
  {
   "cell_type": "markdown",
   "metadata": {},
   "source": [
    "### General functions"
   ]
  },
  {
   "cell_type": "code",
   "execution_count": 35,
   "metadata": {},
   "outputs": [],
   "source": [
    "import pickle\n",
    "\n",
    "objects = []\n",
    "with (open(\"../../dataprocessed/input/5/0.8/scenario_1-AAPL-m-input.pkl\", \"rb\")) as openfile:\n",
    "    while True:\n",
    "        try:\n",
    "            objects.append(pickle.load(openfile))\n",
    "        except EOFError:\n",
    "            break"
   ]
  },
  {
   "cell_type": "code",
   "execution_count": 16,
   "metadata": {},
   "outputs": [
    {
     "data": {
      "text/plain": [
       "dict_keys([1, 7, 14, 30, 90])"
      ]
     },
     "execution_count": 16,
     "metadata": {},
     "output_type": "execute_result"
    }
   ],
   "source": [
    "objects[4]['INPUT_DATA'].keys()"
   ]
  },
  {
   "cell_type": "code",
   "execution_count": 34,
   "metadata": {},
   "outputs": [
    {
     "data": {
      "text/html": [
       "<div>\n",
       "<style scoped>\n",
       "    .dataframe tbody tr th:only-of-type {\n",
       "        vertical-align: middle;\n",
       "    }\n",
       "\n",
       "    .dataframe tbody tr th {\n",
       "        vertical-align: top;\n",
       "    }\n",
       "\n",
       "    .dataframe thead th {\n",
       "        text-align: right;\n",
       "    }\n",
       "</style>\n",
       "<table border=\"1\" class=\"dataframe\">\n",
       "  <thead>\n",
       "    <tr style=\"text-align: right;\">\n",
       "      <th></th>\n",
       "      <th>0</th>\n",
       "      <th>1</th>\n",
       "      <th>2</th>\n",
       "      <th>3</th>\n",
       "      <th>4</th>\n",
       "    </tr>\n",
       "    <tr>\n",
       "      <th>date</th>\n",
       "      <th></th>\n",
       "      <th></th>\n",
       "      <th></th>\n",
       "      <th></th>\n",
       "      <th></th>\n",
       "    </tr>\n",
       "  </thead>\n",
       "  <tbody>\n",
       "    <tr>\n",
       "      <th>2015-12-29</th>\n",
       "      <td>0.515236</td>\n",
       "      <td>0.530597</td>\n",
       "      <td>0.524141</td>\n",
       "      <td>0.510650</td>\n",
       "      <td>0.532021</td>\n",
       "    </tr>\n",
       "    <tr>\n",
       "      <th>2015-12-30</th>\n",
       "      <td>0.530401</td>\n",
       "      <td>0.523945</td>\n",
       "      <td>0.510454</td>\n",
       "      <td>0.531825</td>\n",
       "      <td>0.516020</td>\n",
       "    </tr>\n",
       "    <tr>\n",
       "      <th>2015-12-31</th>\n",
       "      <td>0.531407</td>\n",
       "      <td>0.517916</td>\n",
       "      <td>0.539288</td>\n",
       "      <td>0.523482</td>\n",
       "      <td>0.500552</td>\n",
       "    </tr>\n",
       "    <tr>\n",
       "      <th>2016-01-04</th>\n",
       "      <td>0.523882</td>\n",
       "      <td>0.545254</td>\n",
       "      <td>0.529448</td>\n",
       "      <td>0.506518</td>\n",
       "      <td>0.507542</td>\n",
       "    </tr>\n",
       "    <tr>\n",
       "      <th>2016-01-05</th>\n",
       "      <td>0.554399</td>\n",
       "      <td>0.538593</td>\n",
       "      <td>0.515663</td>\n",
       "      <td>0.516687</td>\n",
       "      <td>0.487302</td>\n",
       "    </tr>\n",
       "    <tr>\n",
       "      <th>...</th>\n",
       "      <td>...</td>\n",
       "      <td>...</td>\n",
       "      <td>...</td>\n",
       "      <td>...</td>\n",
       "      <td>...</td>\n",
       "    </tr>\n",
       "    <tr>\n",
       "      <th>2022-05-16</th>\n",
       "      <td>0.846037</td>\n",
       "      <td>0.489403</td>\n",
       "      <td>0.313980</td>\n",
       "      <td>0.516563</td>\n",
       "      <td>0.446661</td>\n",
       "    </tr>\n",
       "    <tr>\n",
       "      <th>2022-05-17</th>\n",
       "      <td>0.536331</td>\n",
       "      <td>0.360908</td>\n",
       "      <td>0.563491</td>\n",
       "      <td>0.493589</td>\n",
       "      <td>0.658326</td>\n",
       "    </tr>\n",
       "    <tr>\n",
       "      <th>2022-05-18</th>\n",
       "      <td>0.411487</td>\n",
       "      <td>0.614069</td>\n",
       "      <td>0.544167</td>\n",
       "      <td>0.708905</td>\n",
       "      <td>0.334016</td>\n",
       "    </tr>\n",
       "    <tr>\n",
       "      <th>2022-05-19</th>\n",
       "      <td>0.660463</td>\n",
       "      <td>0.590561</td>\n",
       "      <td>0.755298</td>\n",
       "      <td>0.380410</td>\n",
       "      <td>0.225913</td>\n",
       "    </tr>\n",
       "    <tr>\n",
       "      <th>2022-05-20</th>\n",
       "      <td>0.675334</td>\n",
       "      <td>0.840071</td>\n",
       "      <td>0.465183</td>\n",
       "      <td>0.310686</td>\n",
       "      <td>0.321371</td>\n",
       "    </tr>\n",
       "  </tbody>\n",
       "</table>\n",
       "<p>1608 rows × 5 columns</p>\n",
       "</div>"
      ],
      "text/plain": [
       "                   0         1         2         3         4\n",
       "date                                                        \n",
       "2015-12-29  0.515236  0.530597  0.524141  0.510650  0.532021\n",
       "2015-12-30  0.530401  0.523945  0.510454  0.531825  0.516020\n",
       "2015-12-31  0.531407  0.517916  0.539288  0.523482  0.500552\n",
       "2016-01-04  0.523882  0.545254  0.529448  0.506518  0.507542\n",
       "2016-01-05  0.554399  0.538593  0.515663  0.516687  0.487302\n",
       "...              ...       ...       ...       ...       ...\n",
       "2022-05-16  0.846037  0.489403  0.313980  0.516563  0.446661\n",
       "2022-05-17  0.536331  0.360908  0.563491  0.493589  0.658326\n",
       "2022-05-18  0.411487  0.614069  0.544167  0.708905  0.334016\n",
       "2022-05-19  0.660463  0.590561  0.755298  0.380410  0.225913\n",
       "2022-05-20  0.675334  0.840071  0.465183  0.310686  0.321371\n",
       "\n",
       "[1608 rows x 5 columns]"
      ]
     },
     "execution_count": 34,
     "metadata": {},
     "output_type": "execute_result"
    }
   ],
   "source": [
    "objects[4]['INPUT_DATA'][1]['trainX']"
   ]
  },
  {
   "cell_type": "code",
   "execution_count": 36,
   "metadata": {},
   "outputs": [
    {
     "data": {
      "text/plain": [
       "array([0.6753336 , 0.84007084, 0.46518233, 0.31068552, 0.3213712 ],\n",
       "      dtype=float32)"
      ]
     },
     "execution_count": 36,
     "metadata": {},
     "output_type": "execute_result"
    }
   ],
   "source": [
    "objects[4]['INPUT_DATA'][1]['trainX'][-1][:,0]"
   ]
  },
  {
   "cell_type": "code",
   "execution_count": 92,
   "metadata": {},
   "outputs": [
    {
     "data": {
      "text/plain": [
       "(1608, 10)"
      ]
     },
     "execution_count": 92,
     "metadata": {},
     "output_type": "execute_result"
    }
   ],
   "source": [
    "X_reshaped = trainX[:, 0, :]\n",
    "X_reshaped.shape"
   ]
  },
  {
   "cell_type": "code",
   "execution_count": 93,
   "metadata": {},
   "outputs": [],
   "source": [
    "from sklearn.feature_selection import SelectKBest\n",
    "# Seleccionar las 5 características más relevantes\n",
    "selector = SelectKBest(k=7)\n",
    "X_selected = selector.fit_transform(X_reshaped, trainY)"
   ]
  },
  {
   "cell_type": "code",
   "execution_count": 94,
   "metadata": {},
   "outputs": [
    {
     "data": {
      "text/plain": [
       "(1608, 7)"
      ]
     },
     "execution_count": 94,
     "metadata": {},
     "output_type": "execute_result"
    }
   ],
   "source": [
    "X_selected.shape"
   ]
  },
  {
   "cell_type": "code",
   "execution_count": 88,
   "metadata": {},
   "outputs": [
    {
     "name": "stdout",
     "output_type": "stream",
     "text": [
      "['x0' 'x1' 'x4' 'x5' 'x6' 'x7' 'x9']\n",
      "Index(['PX_OPEN', 'PX_LAST', 'RSI_14D', 'PX_TREND', 'PX_VTREND',\n",
      "       'TWEET_POSTIVIE', 'TWEET_NEGATIVE', 'NEWS_POSITIVE', 'NEWS_NEGATIVE',\n",
      "       'VOLATILITY'],\n",
      "      dtype='object')\n"
     ]
    }
   ],
   "source": [
    "print(selector.get_feature_names_out())\n",
    "print(features)"
   ]
  },
  {
   "cell_type": "code",
   "execution_count": 74,
   "metadata": {},
   "outputs": [
    {
     "ename": "IndexError",
     "evalue": "too many indices for array: array is 2-dimensional, but 3 were indexed",
     "output_type": "error",
     "traceback": [
      "\u001b[1;31m---------------------------------------------------------------------------\u001b[0m",
      "\u001b[1;31mIndexError\u001b[0m                                Traceback (most recent call last)",
      "Cell \u001b[1;32mIn [74], line 5\u001b[0m\n\u001b[0;32m      3\u001b[0m \u001b[38;5;66;03m# Crear un objeto Elastic Net\u001b[39;00m\n\u001b[0;32m      4\u001b[0m elastic_net \u001b[38;5;241m=\u001b[39m ElasticNet(alpha\u001b[38;5;241m=\u001b[39m\u001b[38;5;241m0.05\u001b[39m, l1_ratio\u001b[38;5;241m=\u001b[39m\u001b[38;5;241m0.8\u001b[39m)\n\u001b[1;32m----> 5\u001b[0m trainX \u001b[38;5;241m=\u001b[39m \u001b[43mtrainX\u001b[49m\u001b[43m[\u001b[49m\u001b[43m:\u001b[49m\u001b[43m,\u001b[49m\u001b[43m \u001b[49m\u001b[38;5;241;43m0\u001b[39;49m\u001b[43m,\u001b[49m\u001b[43m \u001b[49m\u001b[43m:\u001b[49m\u001b[43m]\u001b[49m\n\u001b[0;32m      6\u001b[0m \u001b[38;5;66;03m# Seleccionar las características más representativas\u001b[39;00m\n\u001b[0;32m      7\u001b[0m elastic_net\u001b[38;5;241m.\u001b[39mfit(trainX, trainY)\n",
      "\u001b[1;31mIndexError\u001b[0m: too many indices for array: array is 2-dimensional, but 3 were indexed"
     ]
    }
   ],
   "source": [
    "from sklearn.linear_model import ElasticNet\n",
    "\n",
    "# Crear un objeto Elastic Net\n",
    "elastic_net = ElasticNet(alpha=0.05, l1_ratio=0.8)\n",
    "trainX = trainX[:, 0, :]\n",
    "# Seleccionar las características más representativas\n",
    "elastic_net.fit(trainX, trainY)"
   ]
  },
  {
   "cell_type": "code",
   "execution_count": 75,
   "metadata": {},
   "outputs": [
    {
     "ename": "NotFittedError",
     "evalue": "This ElasticNet instance is not fitted yet. Call 'fit' with appropriate arguments before using this estimator.",
     "output_type": "error",
     "traceback": [
      "\u001b[1;31m---------------------------------------------------------------------------\u001b[0m",
      "\u001b[1;31mNotFittedError\u001b[0m                            Traceback (most recent call last)",
      "Cell \u001b[1;32mIn [75], line 1\u001b[0m\n\u001b[1;32m----> 1\u001b[0m \u001b[43melastic_net\u001b[49m\u001b[38;5;241;43m.\u001b[39;49m\u001b[43mscore\u001b[49m\u001b[43m(\u001b[49m\u001b[43mtrainX\u001b[49m\u001b[43m,\u001b[49m\u001b[43m \u001b[49m\u001b[43mtrainY\u001b[49m\u001b[43m)\u001b[49m\n\u001b[0;32m      2\u001b[0m elastic_net\u001b[38;5;241m.\u001b[39mcoef_\n",
      "File \u001b[1;32m~\\AppData\\Local\\Packages\\PythonSoftwareFoundation.Python.3.10_qbz5n2kfra8p0\\LocalCache\\local-packages\\Python310\\site-packages\\sklearn\\base.py:720\u001b[0m, in \u001b[0;36mRegressorMixin.score\u001b[1;34m(self, X, y, sample_weight)\u001b[0m\n\u001b[0;32m    678\u001b[0m \u001b[38;5;124;03m\"\"\"Return the coefficient of determination of the prediction.\u001b[39;00m\n\u001b[0;32m    679\u001b[0m \n\u001b[0;32m    680\u001b[0m \u001b[38;5;124;03mThe coefficient of determination :math:`R^2` is defined as\u001b[39;00m\n\u001b[1;32m   (...)\u001b[0m\n\u001b[0;32m    715\u001b[0m \u001b[38;5;124;03m:class:`~sklearn.multioutput.MultiOutputRegressor`).\u001b[39;00m\n\u001b[0;32m    716\u001b[0m \u001b[38;5;124;03m\"\"\"\u001b[39;00m\n\u001b[0;32m    718\u001b[0m \u001b[38;5;28;01mfrom\u001b[39;00m \u001b[38;5;21;01m.\u001b[39;00m\u001b[38;5;21;01mmetrics\u001b[39;00m \u001b[38;5;28;01mimport\u001b[39;00m r2_score\n\u001b[1;32m--> 720\u001b[0m y_pred \u001b[38;5;241m=\u001b[39m \u001b[38;5;28;43mself\u001b[39;49m\u001b[38;5;241;43m.\u001b[39;49m\u001b[43mpredict\u001b[49m\u001b[43m(\u001b[49m\u001b[43mX\u001b[49m\u001b[43m)\u001b[49m\n\u001b[0;32m    721\u001b[0m \u001b[38;5;28;01mreturn\u001b[39;00m r2_score(y, y_pred, sample_weight\u001b[38;5;241m=\u001b[39msample_weight)\n",
      "File \u001b[1;32m~\\AppData\\Local\\Packages\\PythonSoftwareFoundation.Python.3.10_qbz5n2kfra8p0\\LocalCache\\local-packages\\Python310\\site-packages\\sklearn\\linear_model\\_base.py:386\u001b[0m, in \u001b[0;36mLinearModel.predict\u001b[1;34m(self, X)\u001b[0m\n\u001b[0;32m    372\u001b[0m \u001b[38;5;28;01mdef\u001b[39;00m \u001b[38;5;21mpredict\u001b[39m(\u001b[38;5;28mself\u001b[39m, X):\n\u001b[0;32m    373\u001b[0m     \u001b[38;5;124;03m\"\"\"\u001b[39;00m\n\u001b[0;32m    374\u001b[0m \u001b[38;5;124;03m    Predict using the linear model.\u001b[39;00m\n\u001b[0;32m    375\u001b[0m \n\u001b[1;32m   (...)\u001b[0m\n\u001b[0;32m    384\u001b[0m \u001b[38;5;124;03m        Returns predicted values.\u001b[39;00m\n\u001b[0;32m    385\u001b[0m \u001b[38;5;124;03m    \"\"\"\u001b[39;00m\n\u001b[1;32m--> 386\u001b[0m     \u001b[38;5;28;01mreturn\u001b[39;00m \u001b[38;5;28;43mself\u001b[39;49m\u001b[38;5;241;43m.\u001b[39;49m\u001b[43m_decision_function\u001b[49m\u001b[43m(\u001b[49m\u001b[43mX\u001b[49m\u001b[43m)\u001b[49m\n",
      "File \u001b[1;32m~\\AppData\\Local\\Packages\\PythonSoftwareFoundation.Python.3.10_qbz5n2kfra8p0\\LocalCache\\local-packages\\Python310\\site-packages\\sklearn\\linear_model\\_coordinate_descent.py:1123\u001b[0m, in \u001b[0;36mElasticNet._decision_function\u001b[1;34m(self, X)\u001b[0m\n\u001b[0;32m   1111\u001b[0m \u001b[38;5;28;01mdef\u001b[39;00m \u001b[38;5;21m_decision_function\u001b[39m(\u001b[38;5;28mself\u001b[39m, X):\n\u001b[0;32m   1112\u001b[0m     \u001b[38;5;124;03m\"\"\"Decision function of the linear model.\u001b[39;00m\n\u001b[0;32m   1113\u001b[0m \n\u001b[0;32m   1114\u001b[0m \u001b[38;5;124;03m    Parameters\u001b[39;00m\n\u001b[1;32m   (...)\u001b[0m\n\u001b[0;32m   1121\u001b[0m \u001b[38;5;124;03m        The predicted decision function.\u001b[39;00m\n\u001b[0;32m   1122\u001b[0m \u001b[38;5;124;03m    \"\"\"\u001b[39;00m\n\u001b[1;32m-> 1123\u001b[0m     \u001b[43mcheck_is_fitted\u001b[49m\u001b[43m(\u001b[49m\u001b[38;5;28;43mself\u001b[39;49m\u001b[43m)\u001b[49m\n\u001b[0;32m   1124\u001b[0m     \u001b[38;5;28;01mif\u001b[39;00m sparse\u001b[38;5;241m.\u001b[39misspmatrix(X):\n\u001b[0;32m   1125\u001b[0m         \u001b[38;5;28;01mreturn\u001b[39;00m safe_sparse_dot(X, \u001b[38;5;28mself\u001b[39m\u001b[38;5;241m.\u001b[39mcoef_\u001b[38;5;241m.\u001b[39mT, dense_output\u001b[38;5;241m=\u001b[39m\u001b[38;5;28;01mTrue\u001b[39;00m) \u001b[38;5;241m+\u001b[39m \u001b[38;5;28mself\u001b[39m\u001b[38;5;241m.\u001b[39mintercept_\n",
      "File \u001b[1;32m~\\AppData\\Local\\Packages\\PythonSoftwareFoundation.Python.3.10_qbz5n2kfra8p0\\LocalCache\\local-packages\\Python310\\site-packages\\sklearn\\utils\\validation.py:1345\u001b[0m, in \u001b[0;36mcheck_is_fitted\u001b[1;34m(estimator, attributes, msg, all_or_any)\u001b[0m\n\u001b[0;32m   1340\u001b[0m     fitted \u001b[38;5;241m=\u001b[39m [\n\u001b[0;32m   1341\u001b[0m         v \u001b[38;5;28;01mfor\u001b[39;00m v \u001b[38;5;129;01min\u001b[39;00m \u001b[38;5;28mvars\u001b[39m(estimator) \u001b[38;5;28;01mif\u001b[39;00m v\u001b[38;5;241m.\u001b[39mendswith(\u001b[38;5;124m\"\u001b[39m\u001b[38;5;124m_\u001b[39m\u001b[38;5;124m\"\u001b[39m) \u001b[38;5;129;01mand\u001b[39;00m \u001b[38;5;129;01mnot\u001b[39;00m v\u001b[38;5;241m.\u001b[39mstartswith(\u001b[38;5;124m\"\u001b[39m\u001b[38;5;124m__\u001b[39m\u001b[38;5;124m\"\u001b[39m)\n\u001b[0;32m   1342\u001b[0m     ]\n\u001b[0;32m   1344\u001b[0m \u001b[38;5;28;01mif\u001b[39;00m \u001b[38;5;129;01mnot\u001b[39;00m fitted:\n\u001b[1;32m-> 1345\u001b[0m     \u001b[38;5;28;01mraise\u001b[39;00m NotFittedError(msg \u001b[38;5;241m%\u001b[39m {\u001b[38;5;124m\"\u001b[39m\u001b[38;5;124mname\u001b[39m\u001b[38;5;124m\"\u001b[39m: \u001b[38;5;28mtype\u001b[39m(estimator)\u001b[38;5;241m.\u001b[39m\u001b[38;5;18m__name__\u001b[39m})\n",
      "\u001b[1;31mNotFittedError\u001b[0m: This ElasticNet instance is not fitted yet. Call 'fit' with appropriate arguments before using this estimator."
     ]
    }
   ],
   "source": [
    "elastic_net.score(trainX, trainY)\n",
    "elastic_net.coef_"
   ]
  },
  {
   "cell_type": "code",
   "execution_count": 11,
   "metadata": {},
   "outputs": [
    {
     "data": {
      "text/plain": [
       "(1608, 5)"
      ]
     },
     "execution_count": 11,
     "metadata": {},
     "output_type": "execute_result"
    }
   ],
   "source": [
    "X_selected.shape"
   ]
  },
  {
   "cell_type": "code",
   "execution_count": 20,
   "metadata": {},
   "outputs": [
    {
     "data": {
      "text/plain": [
       "date\n",
       "2016-01-21     25.55685\n",
       "2016-01-22     25.44725\n",
       "2016-01-25     25.37535\n",
       "2016-01-26     25.26200\n",
       "2016-01-27     25.11760\n",
       "                ...    \n",
       "2023-12-20    193.07900\n",
       "2023-12-21    193.30950\n",
       "2023-12-22    193.52500\n",
       "2023-12-26    193.70950\n",
       "2023-12-27    193.84500\n",
       "Name: mean, Length: 1995, dtype: float64"
      ]
     },
     "execution_count": 20,
     "metadata": {},
     "output_type": "execute_result"
    }
   ],
   "source": [
    "objects[4]['INPUT_DATA']['scenario_2'][1]['vdd']['mean']"
   ]
  },
  {
   "cell_type": "code",
   "execution_count": 18,
   "metadata": {},
   "outputs": [
    {
     "data": {
      "text/html": [
       "<div>\n",
       "<style scoped>\n",
       "    .dataframe tbody tr th:only-of-type {\n",
       "        vertical-align: middle;\n",
       "    }\n",
       "\n",
       "    .dataframe tbody tr th {\n",
       "        vertical-align: top;\n",
       "    }\n",
       "\n",
       "    .dataframe thead th {\n",
       "        text-align: right;\n",
       "    }\n",
       "</style>\n",
       "<table border=\"1\" class=\"dataframe\">\n",
       "  <thead>\n",
       "    <tr style=\"text-align: right;\">\n",
       "      <th></th>\n",
       "      <th>PX_OPEN</th>\n",
       "      <th>PX_LAST</th>\n",
       "      <th>RSI_14D</th>\n",
       "      <th>PX_TREND</th>\n",
       "      <th>PX_VTREND</th>\n",
       "      <th>TWEET_POSTIVIE</th>\n",
       "      <th>TWEET_NEGATIVE</th>\n",
       "      <th>NEWS_POSITIVE</th>\n",
       "      <th>NEWS_NEGATIVE</th>\n",
       "      <th>VOLATILITY</th>\n",
       "    </tr>\n",
       "    <tr>\n",
       "      <th>date</th>\n",
       "      <th></th>\n",
       "      <th></th>\n",
       "      <th></th>\n",
       "      <th></th>\n",
       "      <th></th>\n",
       "      <th></th>\n",
       "      <th></th>\n",
       "      <th></th>\n",
       "      <th></th>\n",
       "      <th></th>\n",
       "    </tr>\n",
       "  </thead>\n",
       "  <tbody>\n",
       "    <tr>\n",
       "      <th>2016-01-25</th>\n",
       "      <td>25.55685</td>\n",
       "      <td>25.45600</td>\n",
       "      <td>32.492080</td>\n",
       "      <td>-0.004011</td>\n",
       "      <td>-7.708706e+05</td>\n",
       "      <td>0.085748</td>\n",
       "      <td>0.150335</td>\n",
       "      <td>0.020362</td>\n",
       "      <td>0.021643</td>\n",
       "      <td>0.016450</td>\n",
       "    </tr>\n",
       "    <tr>\n",
       "      <th>2016-01-26</th>\n",
       "      <td>25.44725</td>\n",
       "      <td>25.38335</td>\n",
       "      <td>33.139780</td>\n",
       "      <td>-0.002539</td>\n",
       "      <td>-3.937965e+05</td>\n",
       "      <td>0.084013</td>\n",
       "      <td>0.149071</td>\n",
       "      <td>0.016978</td>\n",
       "      <td>0.021618</td>\n",
       "      <td>0.016437</td>\n",
       "    </tr>\n",
       "    <tr>\n",
       "      <th>2016-01-27</th>\n",
       "      <td>25.37535</td>\n",
       "      <td>25.26870</td>\n",
       "      <td>33.372830</td>\n",
       "      <td>-0.004195</td>\n",
       "      <td>-6.893146e+05</td>\n",
       "      <td>0.091199</td>\n",
       "      <td>0.146696</td>\n",
       "      <td>0.015611</td>\n",
       "      <td>0.021316</td>\n",
       "      <td>0.016430</td>\n",
       "    </tr>\n",
       "    <tr>\n",
       "      <th>2016-01-28</th>\n",
       "      <td>25.26200</td>\n",
       "      <td>25.16820</td>\n",
       "      <td>33.730495</td>\n",
       "      <td>-0.003719</td>\n",
       "      <td>-6.560445e+05</td>\n",
       "      <td>0.089367</td>\n",
       "      <td>0.150004</td>\n",
       "      <td>0.014207</td>\n",
       "      <td>0.022020</td>\n",
       "      <td>0.016422</td>\n",
       "    </tr>\n",
       "    <tr>\n",
       "      <th>2016-01-29</th>\n",
       "      <td>25.11760</td>\n",
       "      <td>25.00070</td>\n",
       "      <td>33.692915</td>\n",
       "      <td>-0.004742</td>\n",
       "      <td>-1.355320e+06</td>\n",
       "      <td>0.092958</td>\n",
       "      <td>0.160823</td>\n",
       "      <td>0.015756</td>\n",
       "      <td>0.023822</td>\n",
       "      <td>0.016448</td>\n",
       "    </tr>\n",
       "    <tr>\n",
       "      <th>...</th>\n",
       "      <td>...</td>\n",
       "      <td>...</td>\n",
       "      <td>...</td>\n",
       "      <td>...</td>\n",
       "      <td>...</td>\n",
       "      <td>...</td>\n",
       "      <td>...</td>\n",
       "      <td>...</td>\n",
       "      <td>...</td>\n",
       "      <td>...</td>\n",
       "    </tr>\n",
       "    <tr>\n",
       "      <th>2023-12-22</th>\n",
       "      <td>193.07900</td>\n",
       "      <td>193.31850</td>\n",
       "      <td>65.965320</td>\n",
       "      <td>0.001224</td>\n",
       "      <td>1.027949e+05</td>\n",
       "      <td>0.024428</td>\n",
       "      <td>0.056674</td>\n",
       "      <td>0.012368</td>\n",
       "      <td>0.021799</td>\n",
       "      <td>0.013125</td>\n",
       "    </tr>\n",
       "    <tr>\n",
       "      <th>2023-12-26</th>\n",
       "      <td>193.30950</td>\n",
       "      <td>193.48700</td>\n",
       "      <td>65.281455</td>\n",
       "      <td>0.000908</td>\n",
       "      <td>8.776774e+04</td>\n",
       "      <td>0.025586</td>\n",
       "      <td>0.057844</td>\n",
       "      <td>0.012880</td>\n",
       "      <td>0.021875</td>\n",
       "      <td>0.013067</td>\n",
       "    </tr>\n",
       "    <tr>\n",
       "      <th>2023-12-27</th>\n",
       "      <td>193.52500</td>\n",
       "      <td>193.66850</td>\n",
       "      <td>64.662130</td>\n",
       "      <td>0.000738</td>\n",
       "      <td>7.835327e+04</td>\n",
       "      <td>0.026668</td>\n",
       "      <td>0.058675</td>\n",
       "      <td>0.012814</td>\n",
       "      <td>0.024524</td>\n",
       "      <td>0.013015</td>\n",
       "    </tr>\n",
       "    <tr>\n",
       "      <th>2023-12-28</th>\n",
       "      <td>193.70950</td>\n",
       "      <td>193.83150</td>\n",
       "      <td>63.993480</td>\n",
       "      <td>0.000627</td>\n",
       "      <td>7.555327e+04</td>\n",
       "      <td>0.026135</td>\n",
       "      <td>0.059286</td>\n",
       "      <td>0.012341</td>\n",
       "      <td>0.024641</td>\n",
       "      <td>0.012953</td>\n",
       "    </tr>\n",
       "    <tr>\n",
       "      <th>2023-12-29</th>\n",
       "      <td>193.84500</td>\n",
       "      <td>193.96900</td>\n",
       "      <td>63.285230</td>\n",
       "      <td>0.000635</td>\n",
       "      <td>7.751838e+04</td>\n",
       "      <td>0.026117</td>\n",
       "      <td>0.064559</td>\n",
       "      <td>0.012082</td>\n",
       "      <td>0.028806</td>\n",
       "      <td>0.012891</td>\n",
       "    </tr>\n",
       "  </tbody>\n",
       "</table>\n",
       "<p>1995 rows × 10 columns</p>\n",
       "</div>"
      ],
      "text/plain": [
       "              PX_OPEN    PX_LAST    RSI_14D  PX_TREND     PX_VTREND  \\\n",
       "date                                                                  \n",
       "2016-01-25   25.55685   25.45600  32.492080 -0.004011 -7.708706e+05   \n",
       "2016-01-26   25.44725   25.38335  33.139780 -0.002539 -3.937965e+05   \n",
       "2016-01-27   25.37535   25.26870  33.372830 -0.004195 -6.893146e+05   \n",
       "2016-01-28   25.26200   25.16820  33.730495 -0.003719 -6.560445e+05   \n",
       "2016-01-29   25.11760   25.00070  33.692915 -0.004742 -1.355320e+06   \n",
       "...               ...        ...        ...       ...           ...   \n",
       "2023-12-22  193.07900  193.31850  65.965320  0.001224  1.027949e+05   \n",
       "2023-12-26  193.30950  193.48700  65.281455  0.000908  8.776774e+04   \n",
       "2023-12-27  193.52500  193.66850  64.662130  0.000738  7.835327e+04   \n",
       "2023-12-28  193.70950  193.83150  63.993480  0.000627  7.555327e+04   \n",
       "2023-12-29  193.84500  193.96900  63.285230  0.000635  7.751838e+04   \n",
       "\n",
       "            TWEET_POSTIVIE  TWEET_NEGATIVE  NEWS_POSITIVE  NEWS_NEGATIVE  \\\n",
       "date                                                                       \n",
       "2016-01-25        0.085748        0.150335       0.020362       0.021643   \n",
       "2016-01-26        0.084013        0.149071       0.016978       0.021618   \n",
       "2016-01-27        0.091199        0.146696       0.015611       0.021316   \n",
       "2016-01-28        0.089367        0.150004       0.014207       0.022020   \n",
       "2016-01-29        0.092958        0.160823       0.015756       0.023822   \n",
       "...                    ...             ...            ...            ...   \n",
       "2023-12-22        0.024428        0.056674       0.012368       0.021799   \n",
       "2023-12-26        0.025586        0.057844       0.012880       0.021875   \n",
       "2023-12-27        0.026668        0.058675       0.012814       0.024524   \n",
       "2023-12-28        0.026135        0.059286       0.012341       0.024641   \n",
       "2023-12-29        0.026117        0.064559       0.012082       0.028806   \n",
       "\n",
       "            VOLATILITY  \n",
       "date                    \n",
       "2016-01-25    0.016450  \n",
       "2016-01-26    0.016437  \n",
       "2016-01-27    0.016430  \n",
       "2016-01-28    0.016422  \n",
       "2016-01-29    0.016448  \n",
       "...                ...  \n",
       "2023-12-22    0.013125  \n",
       "2023-12-26    0.013067  \n",
       "2023-12-27    0.013015  \n",
       "2023-12-28    0.012953  \n",
       "2023-12-29    0.012891  \n",
       "\n",
       "[1995 rows x 10 columns]"
      ]
     },
     "execution_count": 18,
     "metadata": {},
     "output_type": "execute_result"
    }
   ],
   "source": [
    "objects[4]['INPUT_DATA']['scenario_2'][1]['vdd']['mean']"
   ]
  },
  {
   "cell_type": "code",
   "execution_count": 12,
   "metadata": {},
   "outputs": [
    {
     "data": {
      "text/html": [
       "<div>\n",
       "<style scoped>\n",
       "    .dataframe tbody tr th:only-of-type {\n",
       "        vertical-align: middle;\n",
       "    }\n",
       "\n",
       "    .dataframe tbody tr th {\n",
       "        vertical-align: top;\n",
       "    }\n",
       "\n",
       "    .dataframe thead th {\n",
       "        text-align: right;\n",
       "    }\n",
       "</style>\n",
       "<table border=\"1\" class=\"dataframe\">\n",
       "  <thead>\n",
       "    <tr style=\"text-align: right;\">\n",
       "      <th></th>\n",
       "      <th>0</th>\n",
       "      <th>1</th>\n",
       "      <th>2</th>\n",
       "      <th>3</th>\n",
       "      <th>4</th>\n",
       "      <th>5</th>\n",
       "      <th>6</th>\n",
       "      <th>7</th>\n",
       "      <th>8</th>\n",
       "      <th>9</th>\n",
       "      <th>10</th>\n",
       "      <th>11</th>\n",
       "      <th>12</th>\n",
       "      <th>13</th>\n",
       "      <th>14</th>\n",
       "      <th>15</th>\n",
       "      <th>16</th>\n",
       "      <th>17</th>\n",
       "      <th>18</th>\n",
       "      <th>19</th>\n",
       "    </tr>\n",
       "    <tr>\n",
       "      <th>date</th>\n",
       "      <th></th>\n",
       "      <th></th>\n",
       "      <th></th>\n",
       "      <th></th>\n",
       "      <th></th>\n",
       "      <th></th>\n",
       "      <th></th>\n",
       "      <th></th>\n",
       "      <th></th>\n",
       "      <th></th>\n",
       "      <th></th>\n",
       "      <th></th>\n",
       "      <th></th>\n",
       "      <th></th>\n",
       "      <th></th>\n",
       "      <th></th>\n",
       "      <th></th>\n",
       "      <th></th>\n",
       "      <th></th>\n",
       "      <th></th>\n",
       "    </tr>\n",
       "  </thead>\n",
       "  <tbody>\n",
       "    <tr>\n",
       "      <th>2022-05-26</th>\n",
       "      <td>0.933265</td>\n",
       "      <td>0.782382</td>\n",
       "      <td>0.824735</td>\n",
       "      <td>0.869441</td>\n",
       "      <td>0.992382</td>\n",
       "      <td>0.761794</td>\n",
       "      <td>0.729882</td>\n",
       "      <td>0.747382</td>\n",
       "      <td>0.687971</td>\n",
       "      <td>0.372382</td>\n",
       "      <td>0.425912</td>\n",
       "      <td>0.454147</td>\n",
       "      <td>0.551500</td>\n",
       "      <td>0.492382</td>\n",
       "      <td>0.287382</td>\n",
       "      <td>0.264147</td>\n",
       "      <td>0.225912</td>\n",
       "      <td>0.314588</td>\n",
       "      <td>0.244735</td>\n",
       "      <td>0.214147</td>\n",
       "    </tr>\n",
       "    <tr>\n",
       "      <th>2022-05-27</th>\n",
       "      <td>0.806574</td>\n",
       "      <td>0.848926</td>\n",
       "      <td>0.893632</td>\n",
       "      <td>1.016574</td>\n",
       "      <td>0.785985</td>\n",
       "      <td>0.754074</td>\n",
       "      <td>0.771574</td>\n",
       "      <td>0.712162</td>\n",
       "      <td>0.396574</td>\n",
       "      <td>0.450103</td>\n",
       "      <td>0.478338</td>\n",
       "      <td>0.575691</td>\n",
       "      <td>0.516574</td>\n",
       "      <td>0.311574</td>\n",
       "      <td>0.288338</td>\n",
       "      <td>0.250103</td>\n",
       "      <td>0.338779</td>\n",
       "      <td>0.268926</td>\n",
       "      <td>0.238338</td>\n",
       "      <td>0.473632</td>\n",
       "    </tr>\n",
       "    <tr>\n",
       "      <th>2022-05-31</th>\n",
       "      <td>0.860162</td>\n",
       "      <td>0.904868</td>\n",
       "      <td>1.027809</td>\n",
       "      <td>0.797221</td>\n",
       "      <td>0.765309</td>\n",
       "      <td>0.782809</td>\n",
       "      <td>0.723397</td>\n",
       "      <td>0.407809</td>\n",
       "      <td>0.461338</td>\n",
       "      <td>0.489574</td>\n",
       "      <td>0.586926</td>\n",
       "      <td>0.527809</td>\n",
       "      <td>0.322809</td>\n",
       "      <td>0.299574</td>\n",
       "      <td>0.261338</td>\n",
       "      <td>0.350015</td>\n",
       "      <td>0.280162</td>\n",
       "      <td>0.249574</td>\n",
       "      <td>0.484868</td>\n",
       "      <td>0.593103</td>\n",
       "    </tr>\n",
       "    <tr>\n",
       "      <th>2022-06-01</th>\n",
       "      <td>0.917000</td>\n",
       "      <td>1.039941</td>\n",
       "      <td>0.809353</td>\n",
       "      <td>0.777441</td>\n",
       "      <td>0.794941</td>\n",
       "      <td>0.735529</td>\n",
       "      <td>0.419941</td>\n",
       "      <td>0.473471</td>\n",
       "      <td>0.501706</td>\n",
       "      <td>0.599059</td>\n",
       "      <td>0.539941</td>\n",
       "      <td>0.334941</td>\n",
       "      <td>0.311706</td>\n",
       "      <td>0.273471</td>\n",
       "      <td>0.362147</td>\n",
       "      <td>0.292294</td>\n",
       "      <td>0.261706</td>\n",
       "      <td>0.497000</td>\n",
       "      <td>0.605235</td>\n",
       "      <td>0.629647</td>\n",
       "    </tr>\n",
       "    <tr>\n",
       "      <th>2022-06-02</th>\n",
       "      <td>1.057353</td>\n",
       "      <td>0.826765</td>\n",
       "      <td>0.794853</td>\n",
       "      <td>0.812353</td>\n",
       "      <td>0.752941</td>\n",
       "      <td>0.437353</td>\n",
       "      <td>0.490882</td>\n",
       "      <td>0.519118</td>\n",
       "      <td>0.616471</td>\n",
       "      <td>0.557353</td>\n",
       "      <td>0.352353</td>\n",
       "      <td>0.329118</td>\n",
       "      <td>0.290882</td>\n",
       "      <td>0.379559</td>\n",
       "      <td>0.309706</td>\n",
       "      <td>0.279118</td>\n",
       "      <td>0.514412</td>\n",
       "      <td>0.622647</td>\n",
       "      <td>0.647059</td>\n",
       "      <td>0.586176</td>\n",
       "    </tr>\n",
       "    <tr>\n",
       "      <th>...</th>\n",
       "      <td>...</td>\n",
       "      <td>...</td>\n",
       "      <td>...</td>\n",
       "      <td>...</td>\n",
       "      <td>...</td>\n",
       "      <td>...</td>\n",
       "      <td>...</td>\n",
       "      <td>...</td>\n",
       "      <td>...</td>\n",
       "      <td>...</td>\n",
       "      <td>...</td>\n",
       "      <td>...</td>\n",
       "      <td>...</td>\n",
       "      <td>...</td>\n",
       "      <td>...</td>\n",
       "      <td>...</td>\n",
       "      <td>...</td>\n",
       "      <td>...</td>\n",
       "      <td>...</td>\n",
       "      <td>...</td>\n",
       "    </tr>\n",
       "    <tr>\n",
       "      <th>2023-12-20</th>\n",
       "      <td>0.512088</td>\n",
       "      <td>0.493853</td>\n",
       "      <td>0.465912</td>\n",
       "      <td>0.461794</td>\n",
       "      <td>0.494735</td>\n",
       "      <td>0.463559</td>\n",
       "      <td>0.477971</td>\n",
       "      <td>0.467676</td>\n",
       "      <td>0.474441</td>\n",
       "      <td>0.599147</td>\n",
       "      <td>0.575029</td>\n",
       "      <td>0.591794</td>\n",
       "      <td>0.559735</td>\n",
       "      <td>0.558853</td>\n",
       "      <td>0.617971</td>\n",
       "      <td>0.704147</td>\n",
       "      <td>0.689735</td>\n",
       "      <td>0.647382</td>\n",
       "      <td>0.649441</td>\n",
       "      <td>0.671206</td>\n",
       "    </tr>\n",
       "    <tr>\n",
       "      <th>2023-12-21</th>\n",
       "      <td>0.487074</td>\n",
       "      <td>0.459132</td>\n",
       "      <td>0.455015</td>\n",
       "      <td>0.487956</td>\n",
       "      <td>0.456779</td>\n",
       "      <td>0.471191</td>\n",
       "      <td>0.460897</td>\n",
       "      <td>0.467662</td>\n",
       "      <td>0.592368</td>\n",
       "      <td>0.568250</td>\n",
       "      <td>0.585015</td>\n",
       "      <td>0.552956</td>\n",
       "      <td>0.552074</td>\n",
       "      <td>0.611191</td>\n",
       "      <td>0.697368</td>\n",
       "      <td>0.682956</td>\n",
       "      <td>0.640603</td>\n",
       "      <td>0.642662</td>\n",
       "      <td>0.664426</td>\n",
       "      <td>0.640897</td>\n",
       "    </tr>\n",
       "    <tr>\n",
       "      <th>2023-12-22</th>\n",
       "      <td>0.452794</td>\n",
       "      <td>0.448676</td>\n",
       "      <td>0.481618</td>\n",
       "      <td>0.450441</td>\n",
       "      <td>0.464853</td>\n",
       "      <td>0.454559</td>\n",
       "      <td>0.461324</td>\n",
       "      <td>0.586029</td>\n",
       "      <td>0.561912</td>\n",
       "      <td>0.578676</td>\n",
       "      <td>0.546618</td>\n",
       "      <td>0.545735</td>\n",
       "      <td>0.604853</td>\n",
       "      <td>0.691029</td>\n",
       "      <td>0.676618</td>\n",
       "      <td>0.634265</td>\n",
       "      <td>0.636324</td>\n",
       "      <td>0.658088</td>\n",
       "      <td>0.634559</td>\n",
       "      <td>0.607500</td>\n",
       "    </tr>\n",
       "    <tr>\n",
       "      <th>2023-12-26</th>\n",
       "      <td>0.443250</td>\n",
       "      <td>0.476191</td>\n",
       "      <td>0.445015</td>\n",
       "      <td>0.459426</td>\n",
       "      <td>0.449132</td>\n",
       "      <td>0.455897</td>\n",
       "      <td>0.580603</td>\n",
       "      <td>0.556485</td>\n",
       "      <td>0.573250</td>\n",
       "      <td>0.541191</td>\n",
       "      <td>0.540309</td>\n",
       "      <td>0.599426</td>\n",
       "      <td>0.685603</td>\n",
       "      <td>0.671191</td>\n",
       "      <td>0.628838</td>\n",
       "      <td>0.630897</td>\n",
       "      <td>0.652662</td>\n",
       "      <td>0.629132</td>\n",
       "      <td>0.602074</td>\n",
       "      <td>0.555897</td>\n",
       "    </tr>\n",
       "    <tr>\n",
       "      <th>2023-12-27</th>\n",
       "      <td>0.472206</td>\n",
       "      <td>0.441029</td>\n",
       "      <td>0.455441</td>\n",
       "      <td>0.445147</td>\n",
       "      <td>0.451912</td>\n",
       "      <td>0.576618</td>\n",
       "      <td>0.552500</td>\n",
       "      <td>0.569265</td>\n",
       "      <td>0.537206</td>\n",
       "      <td>0.536324</td>\n",
       "      <td>0.595441</td>\n",
       "      <td>0.681618</td>\n",
       "      <td>0.667206</td>\n",
       "      <td>0.624853</td>\n",
       "      <td>0.626912</td>\n",
       "      <td>0.648676</td>\n",
       "      <td>0.625147</td>\n",
       "      <td>0.598088</td>\n",
       "      <td>0.551912</td>\n",
       "      <td>0.518971</td>\n",
       "    </tr>\n",
       "  </tbody>\n",
       "</table>\n",
       "<p>399 rows × 20 columns</p>\n",
       "</div>"
      ],
      "text/plain": [
       "                  0         1         2         3         4         5   \\\n",
       "date                                                                     \n",
       "2022-05-26  0.933265  0.782382  0.824735  0.869441  0.992382  0.761794   \n",
       "2022-05-27  0.806574  0.848926  0.893632  1.016574  0.785985  0.754074   \n",
       "2022-05-31  0.860162  0.904868  1.027809  0.797221  0.765309  0.782809   \n",
       "2022-06-01  0.917000  1.039941  0.809353  0.777441  0.794941  0.735529   \n",
       "2022-06-02  1.057353  0.826765  0.794853  0.812353  0.752941  0.437353   \n",
       "...              ...       ...       ...       ...       ...       ...   \n",
       "2023-12-20  0.512088  0.493853  0.465912  0.461794  0.494735  0.463559   \n",
       "2023-12-21  0.487074  0.459132  0.455015  0.487956  0.456779  0.471191   \n",
       "2023-12-22  0.452794  0.448676  0.481618  0.450441  0.464853  0.454559   \n",
       "2023-12-26  0.443250  0.476191  0.445015  0.459426  0.449132  0.455897   \n",
       "2023-12-27  0.472206  0.441029  0.455441  0.445147  0.451912  0.576618   \n",
       "\n",
       "                  6         7         8         9         10        11  \\\n",
       "date                                                                     \n",
       "2022-05-26  0.729882  0.747382  0.687971  0.372382  0.425912  0.454147   \n",
       "2022-05-27  0.771574  0.712162  0.396574  0.450103  0.478338  0.575691   \n",
       "2022-05-31  0.723397  0.407809  0.461338  0.489574  0.586926  0.527809   \n",
       "2022-06-01  0.419941  0.473471  0.501706  0.599059  0.539941  0.334941   \n",
       "2022-06-02  0.490882  0.519118  0.616471  0.557353  0.352353  0.329118   \n",
       "...              ...       ...       ...       ...       ...       ...   \n",
       "2023-12-20  0.477971  0.467676  0.474441  0.599147  0.575029  0.591794   \n",
       "2023-12-21  0.460897  0.467662  0.592368  0.568250  0.585015  0.552956   \n",
       "2023-12-22  0.461324  0.586029  0.561912  0.578676  0.546618  0.545735   \n",
       "2023-12-26  0.580603  0.556485  0.573250  0.541191  0.540309  0.599426   \n",
       "2023-12-27  0.552500  0.569265  0.537206  0.536324  0.595441  0.681618   \n",
       "\n",
       "                  12        13        14        15        16        17  \\\n",
       "date                                                                     \n",
       "2022-05-26  0.551500  0.492382  0.287382  0.264147  0.225912  0.314588   \n",
       "2022-05-27  0.516574  0.311574  0.288338  0.250103  0.338779  0.268926   \n",
       "2022-05-31  0.322809  0.299574  0.261338  0.350015  0.280162  0.249574   \n",
       "2022-06-01  0.311706  0.273471  0.362147  0.292294  0.261706  0.497000   \n",
       "2022-06-02  0.290882  0.379559  0.309706  0.279118  0.514412  0.622647   \n",
       "...              ...       ...       ...       ...       ...       ...   \n",
       "2023-12-20  0.559735  0.558853  0.617971  0.704147  0.689735  0.647382   \n",
       "2023-12-21  0.552074  0.611191  0.697368  0.682956  0.640603  0.642662   \n",
       "2023-12-22  0.604853  0.691029  0.676618  0.634265  0.636324  0.658088   \n",
       "2023-12-26  0.685603  0.671191  0.628838  0.630897  0.652662  0.629132   \n",
       "2023-12-27  0.667206  0.624853  0.626912  0.648676  0.625147  0.598088   \n",
       "\n",
       "                  18        19  \n",
       "date                            \n",
       "2022-05-26  0.244735  0.214147  \n",
       "2022-05-27  0.238338  0.473632  \n",
       "2022-05-31  0.484868  0.593103  \n",
       "2022-06-01  0.605235  0.629647  \n",
       "2022-06-02  0.647059  0.586176  \n",
       "...              ...       ...  \n",
       "2023-12-20  0.649441  0.671206  \n",
       "2023-12-21  0.664426  0.640897  \n",
       "2023-12-22  0.634559  0.607500  \n",
       "2023-12-26  0.602074  0.555897  \n",
       "2023-12-27  0.551912  0.518971  \n",
       "\n",
       "[399 rows x 20 columns]"
      ]
     },
     "execution_count": 12,
     "metadata": {},
     "output_type": "execute_result"
    }
   ],
   "source": [
    "objects[4]['INPUT_DATA']['scenario_2'][1]['testX_index']"
   ]
  },
  {
   "cell_type": "code",
   "execution_count": 9,
   "metadata": {},
   "outputs": [
    {
     "data": {
      "text/plain": [
       "date\n",
       "2016-01-25     25.45600\n",
       "2016-01-26     25.38335\n",
       "2016-01-27     25.26870\n",
       "2016-01-28     25.16820\n",
       "2016-01-29     25.00070\n",
       "                ...    \n",
       "2023-12-22    193.31850\n",
       "2023-12-26    193.48700\n",
       "2023-12-27    193.66850\n",
       "2023-12-28    193.83150\n",
       "2023-12-29    193.96900\n",
       "Name: PX_LAST, Length: 1995, dtype: float64"
      ]
     },
     "execution_count": 9,
     "metadata": {},
     "output_type": "execute_result"
    }
   ],
   "source": [
    "objects[4]['INPUT_DATA']['scenario_2'][1]['vdd']['mean']['PX_LAST']"
   ]
  },
  {
   "cell_type": "code",
   "execution_count": 15,
   "metadata": {},
   "outputs": [
    {
     "data": {
      "text/plain": [
       "array([0.46119037, 0.45431313, 0.43275055, ..., 0.13715598, 0.1379277 ,\n",
       "       0.3502751 ], dtype=float32)"
      ]
     },
     "execution_count": 15,
     "metadata": {},
     "output_type": "execute_result"
    }
   ],
   "source": [
    "objects[4]['INPUT_DATA']['scenario_2'][1]['trainY']"
   ]
  },
  {
   "cell_type": "code",
   "execution_count": 19,
   "metadata": {},
   "outputs": [
    {
     "name": "stdout",
     "output_type": "stream",
     "text": [
      "Annualized volatility:  26.49 %\n"
     ]
    }
   ],
   "source": [
    "import numpy as np\n",
    "print(\"Annualized volatility: \",round(((objects[4]['INPUT_DATA']['scenario_1'][1]['x'][0][0][9])*np.sqrt(252)*100),2),\"%\")"
   ]
  },
  {
   "cell_type": "code",
   "execution_count": 5,
   "metadata": {},
   "outputs": [
    {
     "name": "stdout",
     "output_type": "stream",
     "text": [
      "2216\n",
      "22\n",
      "10\n"
     ]
    }
   ],
   "source": [
    "print(len(objects[5]['INP_MSERIAL']['AMZN'][1]['x']))\n",
    "print(len(objects[5]['INP_MSERIAL']['AMZN'][1]['x'][0]))\n",
    "print(len(objects[5]['INP_MSERIAL']['AMZN'][1]['x'][0][0]))"
   ]
  },
  {
   "cell_type": "code",
   "execution_count": 6,
   "metadata": {},
   "outputs": [
    {
     "data": {
      "text/plain": [
       "dict_keys(['INP', 'INP_MSERIAL', 'test'])"
      ]
     },
     "execution_count": 6,
     "metadata": {},
     "output_type": "execute_result"
    }
   ],
   "source": [
    "objects[5]['test'] = 1\n",
    "objects[5].keys()"
   ]
  },
  {
   "cell_type": "code",
   "execution_count": 7,
   "metadata": {},
   "outputs": [
    {
     "data": {
      "text/plain": [
       "dict_keys(['x', 'y', 'nx', 'ny', 'numt', 'vdd', 'trX', 'trY', 'tsX', 'tsY'])"
      ]
     },
     "execution_count": 7,
     "metadata": {},
     "output_type": "execute_result"
    }
   ],
   "source": [
    "objects[5]['INP']['TSLA'][1].keys()"
   ]
  },
  {
   "cell_type": "code",
   "execution_count": 12,
   "metadata": {},
   "outputs": [
    {
     "data": {
      "text/html": [
       "<div>\n",
       "<style scoped>\n",
       "    .dataframe tbody tr th:only-of-type {\n",
       "        vertical-align: middle;\n",
       "    }\n",
       "\n",
       "    .dataframe tbody tr th {\n",
       "        vertical-align: top;\n",
       "    }\n",
       "\n",
       "    .dataframe thead th {\n",
       "        text-align: right;\n",
       "    }\n",
       "</style>\n",
       "<table border=\"1\" class=\"dataframe\">\n",
       "  <thead>\n",
       "    <tr style=\"text-align: right;\">\n",
       "      <th></th>\n",
       "      <th>0</th>\n",
       "      <th>1</th>\n",
       "      <th>2</th>\n",
       "      <th>3</th>\n",
       "      <th>4</th>\n",
       "      <th>5</th>\n",
       "      <th>6</th>\n",
       "      <th>7</th>\n",
       "      <th>8</th>\n",
       "      <th>9</th>\n",
       "      <th>...</th>\n",
       "      <th>12</th>\n",
       "      <th>13</th>\n",
       "      <th>14</th>\n",
       "      <th>15</th>\n",
       "      <th>16</th>\n",
       "      <th>17</th>\n",
       "      <th>18</th>\n",
       "      <th>19</th>\n",
       "      <th>20</th>\n",
       "      <th>21</th>\n",
       "    </tr>\n",
       "    <tr>\n",
       "      <th>date</th>\n",
       "      <th></th>\n",
       "      <th></th>\n",
       "      <th></th>\n",
       "      <th></th>\n",
       "      <th></th>\n",
       "      <th></th>\n",
       "      <th></th>\n",
       "      <th></th>\n",
       "      <th></th>\n",
       "      <th></th>\n",
       "      <th></th>\n",
       "      <th></th>\n",
       "      <th></th>\n",
       "      <th></th>\n",
       "      <th></th>\n",
       "      <th></th>\n",
       "      <th></th>\n",
       "      <th></th>\n",
       "      <th></th>\n",
       "      <th></th>\n",
       "      <th></th>\n",
       "    </tr>\n",
       "  </thead>\n",
       "  <tbody>\n",
       "    <tr>\n",
       "      <th>2015-02-03</th>\n",
       "      <td>0.441695</td>\n",
       "      <td>0.438525</td>\n",
       "      <td>0.436815</td>\n",
       "      <td>0.438068</td>\n",
       "      <td>0.437863</td>\n",
       "      <td>0.436381</td>\n",
       "      <td>0.434145</td>\n",
       "      <td>0.434248</td>\n",
       "      <td>0.427585</td>\n",
       "      <td>0.430884</td>\n",
       "      <td>...</td>\n",
       "      <td>0.429002</td>\n",
       "      <td>0.431840</td>\n",
       "      <td>0.433094</td>\n",
       "      <td>0.433680</td>\n",
       "      <td>0.434667</td>\n",
       "      <td>0.435311</td>\n",
       "      <td>0.433391</td>\n",
       "      <td>0.434491</td>\n",
       "      <td>0.434495</td>\n",
       "      <td>0.438019</td>\n",
       "    </tr>\n",
       "    <tr>\n",
       "      <th>2015-02-04</th>\n",
       "      <td>0.438605</td>\n",
       "      <td>0.436895</td>\n",
       "      <td>0.438148</td>\n",
       "      <td>0.437942</td>\n",
       "      <td>0.436460</td>\n",
       "      <td>0.434224</td>\n",
       "      <td>0.434327</td>\n",
       "      <td>0.427664</td>\n",
       "      <td>0.430963</td>\n",
       "      <td>0.429519</td>\n",
       "      <td>...</td>\n",
       "      <td>0.431919</td>\n",
       "      <td>0.433173</td>\n",
       "      <td>0.433759</td>\n",
       "      <td>0.434746</td>\n",
       "      <td>0.435390</td>\n",
       "      <td>0.433470</td>\n",
       "      <td>0.434571</td>\n",
       "      <td>0.434575</td>\n",
       "      <td>0.438099</td>\n",
       "      <td>0.440030</td>\n",
       "    </tr>\n",
       "    <tr>\n",
       "      <th>2015-02-05</th>\n",
       "      <td>0.436802</td>\n",
       "      <td>0.438055</td>\n",
       "      <td>0.437850</td>\n",
       "      <td>0.436368</td>\n",
       "      <td>0.434132</td>\n",
       "      <td>0.434235</td>\n",
       "      <td>0.427572</td>\n",
       "      <td>0.430871</td>\n",
       "      <td>0.429427</td>\n",
       "      <td>0.430635</td>\n",
       "      <td>...</td>\n",
       "      <td>0.433080</td>\n",
       "      <td>0.433667</td>\n",
       "      <td>0.434654</td>\n",
       "      <td>0.435298</td>\n",
       "      <td>0.433378</td>\n",
       "      <td>0.434478</td>\n",
       "      <td>0.434482</td>\n",
       "      <td>0.438006</td>\n",
       "      <td>0.439938</td>\n",
       "      <td>0.440543</td>\n",
       "    </tr>\n",
       "    <tr>\n",
       "      <th>2015-02-06</th>\n",
       "      <td>0.437849</td>\n",
       "      <td>0.437643</td>\n",
       "      <td>0.436161</td>\n",
       "      <td>0.433925</td>\n",
       "      <td>0.434028</td>\n",
       "      <td>0.427365</td>\n",
       "      <td>0.430664</td>\n",
       "      <td>0.429220</td>\n",
       "      <td>0.430428</td>\n",
       "      <td>0.428782</td>\n",
       "      <td>...</td>\n",
       "      <td>0.433460</td>\n",
       "      <td>0.434447</td>\n",
       "      <td>0.435091</td>\n",
       "      <td>0.433171</td>\n",
       "      <td>0.434271</td>\n",
       "      <td>0.434275</td>\n",
       "      <td>0.437799</td>\n",
       "      <td>0.439731</td>\n",
       "      <td>0.440337</td>\n",
       "      <td>0.441144</td>\n",
       "    </tr>\n",
       "    <tr>\n",
       "      <th>2015-02-09</th>\n",
       "      <td>0.437608</td>\n",
       "      <td>0.436126</td>\n",
       "      <td>0.433890</td>\n",
       "      <td>0.433993</td>\n",
       "      <td>0.427330</td>\n",
       "      <td>0.430629</td>\n",
       "      <td>0.429185</td>\n",
       "      <td>0.430393</td>\n",
       "      <td>0.428747</td>\n",
       "      <td>0.431585</td>\n",
       "      <td>...</td>\n",
       "      <td>0.434412</td>\n",
       "      <td>0.435056</td>\n",
       "      <td>0.433136</td>\n",
       "      <td>0.434236</td>\n",
       "      <td>0.434240</td>\n",
       "      <td>0.437764</td>\n",
       "      <td>0.439696</td>\n",
       "      <td>0.440301</td>\n",
       "      <td>0.441109</td>\n",
       "      <td>0.438587</td>\n",
       "    </tr>\n",
       "    <tr>\n",
       "      <th>...</th>\n",
       "      <td>...</td>\n",
       "      <td>...</td>\n",
       "      <td>...</td>\n",
       "      <td>...</td>\n",
       "      <td>...</td>\n",
       "      <td>...</td>\n",
       "      <td>...</td>\n",
       "      <td>...</td>\n",
       "      <td>...</td>\n",
       "      <td>...</td>\n",
       "      <td>...</td>\n",
       "      <td>...</td>\n",
       "      <td>...</td>\n",
       "      <td>...</td>\n",
       "      <td>...</td>\n",
       "      <td>...</td>\n",
       "      <td>...</td>\n",
       "      <td>...</td>\n",
       "      <td>...</td>\n",
       "      <td>...</td>\n",
       "      <td>...</td>\n",
       "    </tr>\n",
       "    <tr>\n",
       "      <th>2023-12-20</th>\n",
       "      <td>0.391951</td>\n",
       "      <td>0.397665</td>\n",
       "      <td>0.437665</td>\n",
       "      <td>0.390294</td>\n",
       "      <td>0.408236</td>\n",
       "      <td>0.407036</td>\n",
       "      <td>0.478636</td>\n",
       "      <td>0.455379</td>\n",
       "      <td>0.386808</td>\n",
       "      <td>0.401722</td>\n",
       "      <td>...</td>\n",
       "      <td>0.434865</td>\n",
       "      <td>0.427551</td>\n",
       "      <td>0.441665</td>\n",
       "      <td>0.417722</td>\n",
       "      <td>0.392808</td>\n",
       "      <td>0.432979</td>\n",
       "      <td>0.490065</td>\n",
       "      <td>0.504751</td>\n",
       "      <td>0.503036</td>\n",
       "      <td>0.519779</td>\n",
       "    </tr>\n",
       "    <tr>\n",
       "      <th>2023-12-21</th>\n",
       "      <td>0.393026</td>\n",
       "      <td>0.433026</td>\n",
       "      <td>0.385655</td>\n",
       "      <td>0.403597</td>\n",
       "      <td>0.402397</td>\n",
       "      <td>0.473997</td>\n",
       "      <td>0.450740</td>\n",
       "      <td>0.382169</td>\n",
       "      <td>0.397083</td>\n",
       "      <td>0.386340</td>\n",
       "      <td>...</td>\n",
       "      <td>0.422912</td>\n",
       "      <td>0.437026</td>\n",
       "      <td>0.413083</td>\n",
       "      <td>0.388169</td>\n",
       "      <td>0.428340</td>\n",
       "      <td>0.485426</td>\n",
       "      <td>0.500112</td>\n",
       "      <td>0.498397</td>\n",
       "      <td>0.515140</td>\n",
       "      <td>0.489369</td>\n",
       "    </tr>\n",
       "    <tr>\n",
       "      <th>2023-12-22</th>\n",
       "      <td>0.427384</td>\n",
       "      <td>0.380013</td>\n",
       "      <td>0.397956</td>\n",
       "      <td>0.396756</td>\n",
       "      <td>0.468356</td>\n",
       "      <td>0.445099</td>\n",
       "      <td>0.376527</td>\n",
       "      <td>0.391442</td>\n",
       "      <td>0.380699</td>\n",
       "      <td>0.432413</td>\n",
       "      <td>...</td>\n",
       "      <td>0.431384</td>\n",
       "      <td>0.407442</td>\n",
       "      <td>0.382527</td>\n",
       "      <td>0.422699</td>\n",
       "      <td>0.479784</td>\n",
       "      <td>0.494470</td>\n",
       "      <td>0.492756</td>\n",
       "      <td>0.509499</td>\n",
       "      <td>0.483727</td>\n",
       "      <td>0.511499</td>\n",
       "    </tr>\n",
       "    <tr>\n",
       "      <th>2023-12-26</th>\n",
       "      <td>0.376779</td>\n",
       "      <td>0.394722</td>\n",
       "      <td>0.393522</td>\n",
       "      <td>0.465122</td>\n",
       "      <td>0.441865</td>\n",
       "      <td>0.373294</td>\n",
       "      <td>0.388208</td>\n",
       "      <td>0.377465</td>\n",
       "      <td>0.429179</td>\n",
       "      <td>0.421351</td>\n",
       "      <td>...</td>\n",
       "      <td>0.404208</td>\n",
       "      <td>0.379294</td>\n",
       "      <td>0.419465</td>\n",
       "      <td>0.476551</td>\n",
       "      <td>0.491236</td>\n",
       "      <td>0.489522</td>\n",
       "      <td>0.506265</td>\n",
       "      <td>0.480494</td>\n",
       "      <td>0.508265</td>\n",
       "      <td>0.495293</td>\n",
       "    </tr>\n",
       "    <tr>\n",
       "      <th>2023-12-27</th>\n",
       "      <td>0.388332</td>\n",
       "      <td>0.387132</td>\n",
       "      <td>0.458732</td>\n",
       "      <td>0.435475</td>\n",
       "      <td>0.366904</td>\n",
       "      <td>0.381818</td>\n",
       "      <td>0.371075</td>\n",
       "      <td>0.422790</td>\n",
       "      <td>0.414961</td>\n",
       "      <td>0.407647</td>\n",
       "      <td>...</td>\n",
       "      <td>0.372904</td>\n",
       "      <td>0.413075</td>\n",
       "      <td>0.470161</td>\n",
       "      <td>0.484847</td>\n",
       "      <td>0.483132</td>\n",
       "      <td>0.499875</td>\n",
       "      <td>0.474104</td>\n",
       "      <td>0.501875</td>\n",
       "      <td>0.488904</td>\n",
       "      <td>0.510961</td>\n",
       "    </tr>\n",
       "  </tbody>\n",
       "</table>\n",
       "<p>2223 rows × 22 columns</p>\n",
       "</div>"
      ],
      "text/plain": [
       "                  0         1         2         3         4         5   \\\n",
       "date                                                                     \n",
       "2015-02-03  0.441695  0.438525  0.436815  0.438068  0.437863  0.436381   \n",
       "2015-02-04  0.438605  0.436895  0.438148  0.437942  0.436460  0.434224   \n",
       "2015-02-05  0.436802  0.438055  0.437850  0.436368  0.434132  0.434235   \n",
       "2015-02-06  0.437849  0.437643  0.436161  0.433925  0.434028  0.427365   \n",
       "2015-02-09  0.437608  0.436126  0.433890  0.433993  0.427330  0.430629   \n",
       "...              ...       ...       ...       ...       ...       ...   \n",
       "2023-12-20  0.391951  0.397665  0.437665  0.390294  0.408236  0.407036   \n",
       "2023-12-21  0.393026  0.433026  0.385655  0.403597  0.402397  0.473997   \n",
       "2023-12-22  0.427384  0.380013  0.397956  0.396756  0.468356  0.445099   \n",
       "2023-12-26  0.376779  0.394722  0.393522  0.465122  0.441865  0.373294   \n",
       "2023-12-27  0.388332  0.387132  0.458732  0.435475  0.366904  0.381818   \n",
       "\n",
       "                  6         7         8         9   ...        12        13  \\\n",
       "date                                                ...                       \n",
       "2015-02-03  0.434145  0.434248  0.427585  0.430884  ...  0.429002  0.431840   \n",
       "2015-02-04  0.434327  0.427664  0.430963  0.429519  ...  0.431919  0.433173   \n",
       "2015-02-05  0.427572  0.430871  0.429427  0.430635  ...  0.433080  0.433667   \n",
       "2015-02-06  0.430664  0.429220  0.430428  0.428782  ...  0.433460  0.434447   \n",
       "2015-02-09  0.429185  0.430393  0.428747  0.431585  ...  0.434412  0.435056   \n",
       "...              ...       ...       ...       ...  ...       ...       ...   \n",
       "2023-12-20  0.478636  0.455379  0.386808  0.401722  ...  0.434865  0.427551   \n",
       "2023-12-21  0.450740  0.382169  0.397083  0.386340  ...  0.422912  0.437026   \n",
       "2023-12-22  0.376527  0.391442  0.380699  0.432413  ...  0.431384  0.407442   \n",
       "2023-12-26  0.388208  0.377465  0.429179  0.421351  ...  0.404208  0.379294   \n",
       "2023-12-27  0.371075  0.422790  0.414961  0.407647  ...  0.372904  0.413075   \n",
       "\n",
       "                  14        15        16        17        18        19  \\\n",
       "date                                                                     \n",
       "2015-02-03  0.433094  0.433680  0.434667  0.435311  0.433391  0.434491   \n",
       "2015-02-04  0.433759  0.434746  0.435390  0.433470  0.434571  0.434575   \n",
       "2015-02-05  0.434654  0.435298  0.433378  0.434478  0.434482  0.438006   \n",
       "2015-02-06  0.435091  0.433171  0.434271  0.434275  0.437799  0.439731   \n",
       "2015-02-09  0.433136  0.434236  0.434240  0.437764  0.439696  0.440301   \n",
       "...              ...       ...       ...       ...       ...       ...   \n",
       "2023-12-20  0.441665  0.417722  0.392808  0.432979  0.490065  0.504751   \n",
       "2023-12-21  0.413083  0.388169  0.428340  0.485426  0.500112  0.498397   \n",
       "2023-12-22  0.382527  0.422699  0.479784  0.494470  0.492756  0.509499   \n",
       "2023-12-26  0.419465  0.476551  0.491236  0.489522  0.506265  0.480494   \n",
       "2023-12-27  0.470161  0.484847  0.483132  0.499875  0.474104  0.501875   \n",
       "\n",
       "                  20        21  \n",
       "date                            \n",
       "2015-02-03  0.434495  0.438019  \n",
       "2015-02-04  0.438099  0.440030  \n",
       "2015-02-05  0.439938  0.440543  \n",
       "2015-02-06  0.440337  0.441144  \n",
       "2015-02-09  0.441109  0.438587  \n",
       "...              ...       ...  \n",
       "2023-12-20  0.503036  0.519779  \n",
       "2023-12-21  0.515140  0.489369  \n",
       "2023-12-22  0.483727  0.511499  \n",
       "2023-12-26  0.508265  0.495293  \n",
       "2023-12-27  0.488904  0.510961  \n",
       "\n",
       "[2223 rows x 22 columns]"
      ]
     },
     "execution_count": 12,
     "metadata": {},
     "output_type": "execute_result"
    }
   ],
   "source": [
    "objects[5]['INP']['TSLA'][1]['nx']"
   ]
  },
  {
   "cell_type": "code",
   "execution_count": 1,
   "metadata": {},
   "outputs": [
    {
     "ename": "FileNotFoundError",
     "evalue": "El archivo /home/vvallejo/Finance-AI/dataprocessed/5/0.8/CMCSA-input-output.pkl no existe.",
     "output_type": "error",
     "traceback": [
      "\u001b[0;31m---------------------------------------------------------------------------\u001b[0m",
      "\u001b[0;31mFileNotFoundError\u001b[0m                         Traceback (most recent call last)",
      "Cell \u001b[0;32mIn[1], line 29\u001b[0m\n\u001b[1;32m     26\u001b[0m     \u001b[38;5;28;01melse\u001b[39;00m:\n\u001b[1;32m     27\u001b[0m         \u001b[38;5;28;01mraise\u001b[39;00m \u001b[38;5;167;01mFileNotFoundError\u001b[39;00m(\u001b[38;5;124m\"\u001b[39m\u001b[38;5;124mEl archivo \u001b[39m\u001b[38;5;132;01m{}\u001b[39;00m\u001b[38;5;124m no existe.\u001b[39m\u001b[38;5;124m\"\u001b[39m\u001b[38;5;241m.\u001b[39mformat(fdat))\n\u001b[0;32m---> 29\u001b[0m path, fdat, lahead, lpar, tot_res \u001b[38;5;241m=\u001b[39m \u001b[43mload_preprocessed_data\u001b[49m\u001b[43m(\u001b[49m\u001b[43mprocessed_path\u001b[49m\u001b[43m,\u001b[49m\u001b[43m \u001b[49m\u001b[43mwin_size\u001b[49m\u001b[43m,\u001b[49m\u001b[43m \u001b[49m\u001b[38;5;124;43m'\u001b[39;49m\u001b[38;5;124;43mCMCSA\u001b[39;49m\u001b[38;5;124;43m'\u001b[39;49m\u001b[43m,\u001b[49m\u001b[43m \u001b[49m\u001b[43mmulti\u001b[49m\u001b[38;5;241;43m=\u001b[39;49m\u001b[38;5;28;43;01mFalse\u001b[39;49;00m\u001b[43m)\u001b[49m\n\u001b[1;32m     30\u001b[0m win, n_ftrs, tr_tst \u001b[38;5;241m=\u001b[39m lpar\n",
      "Cell \u001b[0;32mIn[1], line 27\u001b[0m, in \u001b[0;36mload_preprocessed_data\u001b[0;34m(path, win, ticker, multi)\u001b[0m\n\u001b[1;32m     25\u001b[0m     \u001b[38;5;28;01mreturn\u001b[39;00m path, fdat, lahead, lpar, tot_res\n\u001b[1;32m     26\u001b[0m \u001b[38;5;28;01melse\u001b[39;00m:\n\u001b[0;32m---> 27\u001b[0m     \u001b[38;5;28;01mraise\u001b[39;00m \u001b[38;5;167;01mFileNotFoundError\u001b[39;00m(\u001b[38;5;124m\"\u001b[39m\u001b[38;5;124mEl archivo \u001b[39m\u001b[38;5;132;01m{}\u001b[39;00m\u001b[38;5;124m no existe.\u001b[39m\u001b[38;5;124m\"\u001b[39m\u001b[38;5;241m.\u001b[39mformat(fdat))\n",
      "\u001b[0;31mFileNotFoundError\u001b[0m: El archivo /home/vvallejo/Finance-AI/dataprocessed/5/0.8/CMCSA-input-output.pkl no existe."
     ]
    }
   ],
   "source": [
    "import os\n",
    "import pickle\n",
    "import sys\n",
    "sys.path.append('/home/vvallejo/Finance-AI/src/datapreprocessing')\n",
    "\n",
    "#from datapreprocessing import load_preprocessed_data\n",
    "\n",
    "processed_path = \"/home/vvallejo/Finance-AI/dataprocessed\"\n",
    "win_size = 5\n",
    "\n",
    "def load_preprocessed_data(path, win, ticker, multi):\n",
    "    if multi == True:\n",
    "        fdat = path+ f\"/{win}/0.8/{ticker}-m-input-output.pkl\"\n",
    "    else:\n",
    "        fdat = path+ f\"/{win}/0.8/{ticker}-input-output.pkl\"\n",
    "\n",
    "    if os.path.exists(fdat):\n",
    "        with open(fdat, \"rb\") as openfile:\n",
    "            path = pickle.load(openfile)\n",
    "            fdat = pickle.load(openfile)\n",
    "            lahead = pickle.load(openfile)\n",
    "            lpar = pickle.load(openfile)\n",
    "            tot_res = pickle.load(openfile)\n",
    "\n",
    "        return path, fdat, lahead, lpar, tot_res\n",
    "    else:\n",
    "        raise FileNotFoundError(\"El archivo {} no existe.\".format(fdat))\n",
    "\n",
    "path, fdat, lahead, lpar, tot_res = load_preprocessed_data(processed_path, win_size, 'CMCSA', multi=False)\n",
    "win, n_ftrs, tr_tst = lpar\n"
   ]
  },
  {
   "cell_type": "code",
   "execution_count": 20,
   "metadata": {},
   "outputs": [],
   "source": [
    "import os\n",
    "import pickle\n",
    "import sys\n",
    "# sys.path.append('Finance-AI/src/DataPreprocessing')\n",
    "processed_path = \"/home/vvallejo/Finance-AI/dataprocessed\"\n",
    "win_size = 5\n",
    "tr_tst = 0.8"
   ]
  },
  {
   "cell_type": "code",
   "execution_count": 25,
   "metadata": {},
   "outputs": [],
   "source": [
    "from utils_vv_tfg import load_preprocessed_data\n",
    "lpar, tot_res = load_preprocessed_data(processed_path, win_size, tr_tst, 'AAPL', True)\n",
    "win, n_ftrs, tr_tst = lpar\n",
    "lpar, tot_res_u = load_preprocessed_data(processed_path, win_size, tr_tst, 'AAPL', False)\n",
    "win, n_ftrs, tr_tst = lpar"
   ]
  },
  {
   "cell_type": "code",
   "execution_count": 41,
   "metadata": {},
   "outputs": [
    {
     "data": {
      "text/html": [
       "<div>\n",
       "<style scoped>\n",
       "    .dataframe tbody tr th:only-of-type {\n",
       "        vertical-align: middle;\n",
       "    }\n",
       "\n",
       "    .dataframe tbody tr th {\n",
       "        vertical-align: top;\n",
       "    }\n",
       "\n",
       "    .dataframe thead th {\n",
       "        text-align: right;\n",
       "    }\n",
       "</style>\n",
       "<table border=\"1\" class=\"dataframe\">\n",
       "  <thead>\n",
       "    <tr style=\"text-align: right;\">\n",
       "      <th></th>\n",
       "      <th>0</th>\n",
       "      <th>1</th>\n",
       "      <th>2</th>\n",
       "      <th>3</th>\n",
       "      <th>4</th>\n",
       "    </tr>\n",
       "    <tr>\n",
       "      <th>date</th>\n",
       "      <th></th>\n",
       "      <th></th>\n",
       "      <th></th>\n",
       "      <th></th>\n",
       "      <th></th>\n",
       "    </tr>\n",
       "  </thead>\n",
       "  <tbody>\n",
       "    <tr>\n",
       "      <th>2015-12-29</th>\n",
       "      <td>0.622958</td>\n",
       "      <td>0.641116</td>\n",
       "      <td>0.633484</td>\n",
       "      <td>0.617537</td>\n",
       "      <td>0.642800</td>\n",
       "    </tr>\n",
       "    <tr>\n",
       "      <th>2015-12-30</th>\n",
       "      <td>0.640884</td>\n",
       "      <td>0.633253</td>\n",
       "      <td>0.617305</td>\n",
       "      <td>0.642568</td>\n",
       "      <td>0.623884</td>\n",
       "    </tr>\n",
       "    <tr>\n",
       "      <th>2015-12-31</th>\n",
       "      <td>0.642074</td>\n",
       "      <td>0.626126</td>\n",
       "      <td>0.651389</td>\n",
       "      <td>0.632705</td>\n",
       "      <td>0.605600</td>\n",
       "    </tr>\n",
       "    <tr>\n",
       "      <th>2016-01-04</th>\n",
       "      <td>0.633179</td>\n",
       "      <td>0.658442</td>\n",
       "      <td>0.639758</td>\n",
       "      <td>0.612653</td>\n",
       "      <td>0.613863</td>\n",
       "    </tr>\n",
       "    <tr>\n",
       "      <th>2016-01-05</th>\n",
       "      <td>0.669253</td>\n",
       "      <td>0.650568</td>\n",
       "      <td>0.623463</td>\n",
       "      <td>0.624674</td>\n",
       "      <td>0.589937</td>\n",
       "    </tr>\n",
       "    <tr>\n",
       "      <th>...</th>\n",
       "      <td>...</td>\n",
       "      <td>...</td>\n",
       "      <td>...</td>\n",
       "      <td>...</td>\n",
       "      <td>...</td>\n",
       "    </tr>\n",
       "    <tr>\n",
       "      <th>2023-12-20</th>\n",
       "      <td>0.707474</td>\n",
       "      <td>0.679053</td>\n",
       "      <td>0.590632</td>\n",
       "      <td>0.645895</td>\n",
       "      <td>0.534842</td>\n",
       "    </tr>\n",
       "    <tr>\n",
       "      <th>2023-12-21</th>\n",
       "      <td>0.715158</td>\n",
       "      <td>0.626737</td>\n",
       "      <td>0.682000</td>\n",
       "      <td>0.570947</td>\n",
       "      <td>0.563053</td>\n",
       "    </tr>\n",
       "    <tr>\n",
       "      <th>2023-12-22</th>\n",
       "      <td>0.668526</td>\n",
       "      <td>0.723789</td>\n",
       "      <td>0.612737</td>\n",
       "      <td>0.604842</td>\n",
       "      <td>0.548000</td>\n",
       "    </tr>\n",
       "    <tr>\n",
       "      <th>2023-12-26</th>\n",
       "      <td>0.753684</td>\n",
       "      <td>0.642632</td>\n",
       "      <td>0.634737</td>\n",
       "      <td>0.577895</td>\n",
       "      <td>0.548947</td>\n",
       "    </tr>\n",
       "    <tr>\n",
       "      <th>2023-12-27</th>\n",
       "      <td>0.682526</td>\n",
       "      <td>0.674632</td>\n",
       "      <td>0.617789</td>\n",
       "      <td>0.588842</td>\n",
       "      <td>0.594105</td>\n",
       "    </tr>\n",
       "  </tbody>\n",
       "</table>\n",
       "<p>2010 rows × 5 columns</p>\n",
       "</div>"
      ],
      "text/plain": [
       "                   0         1         2         3         4\n",
       "date                                                        \n",
       "2015-12-29  0.622958  0.641116  0.633484  0.617537  0.642800\n",
       "2015-12-30  0.640884  0.633253  0.617305  0.642568  0.623884\n",
       "2015-12-31  0.642074  0.626126  0.651389  0.632705  0.605600\n",
       "2016-01-04  0.633179  0.658442  0.639758  0.612653  0.613863\n",
       "2016-01-05  0.669253  0.650568  0.623463  0.624674  0.589937\n",
       "...              ...       ...       ...       ...       ...\n",
       "2023-12-20  0.707474  0.679053  0.590632  0.645895  0.534842\n",
       "2023-12-21  0.715158  0.626737  0.682000  0.570947  0.563053\n",
       "2023-12-22  0.668526  0.723789  0.612737  0.604842  0.548000\n",
       "2023-12-26  0.753684  0.642632  0.634737  0.577895  0.548947\n",
       "2023-12-27  0.682526  0.674632  0.617789  0.588842  0.594105\n",
       "\n",
       "[2010 rows x 5 columns]"
      ]
     },
     "execution_count": 41,
     "metadata": {},
     "output_type": "execute_result"
    }
   ],
   "source": [
    "tot_res_u['INPUT_DATA']['scenario_1'][1]['nx']"
   ]
  },
  {
   "cell_type": "code",
   "execution_count": 42,
   "metadata": {},
   "outputs": [
    {
     "data": {
      "text/plain": [
       "(2010,)"
      ]
     },
     "execution_count": 42,
     "metadata": {},
     "output_type": "execute_result"
    }
   ],
   "source": [
    "tot_res['INPUT_DATA']['scenario_1'][1]['nx'][:,0,0].shape"
   ]
  },
  {
   "cell_type": "code",
   "execution_count": 9,
   "metadata": {},
   "outputs": [
    {
     "data": {
      "text/plain": [
       "[5, 1, 0.8, [10, 20, 50]]"
      ]
     },
     "execution_count": 9,
     "metadata": {},
     "output_type": "execute_result"
    }
   ],
   "source": [
    "lpar"
   ]
  },
  {
   "cell_type": "code",
   "execution_count": 10,
   "metadata": {},
   "outputs": [
    {
     "data": {
      "text/plain": [
       "dict_keys(['x', 'y', 'nx', 'ny', 'numt', 'trainX', 'trainY', 'testX', 'testY', 'vdd'])"
      ]
     },
     "execution_count": 10,
     "metadata": {},
     "output_type": "execute_result"
    }
   ],
   "source": [
    "tot_res[1].keys()"
   ]
  },
  {
   "cell_type": "code",
   "execution_count": 11,
   "metadata": {},
   "outputs": [
    {
     "data": {
      "text/html": [
       "<div>\n",
       "<style scoped>\n",
       "    .dataframe tbody tr th:only-of-type {\n",
       "        vertical-align: middle;\n",
       "    }\n",
       "\n",
       "    .dataframe tbody tr th {\n",
       "        vertical-align: top;\n",
       "    }\n",
       "\n",
       "    .dataframe thead th {\n",
       "        text-align: right;\n",
       "    }\n",
       "</style>\n",
       "<table border=\"1\" class=\"dataframe\">\n",
       "  <thead>\n",
       "    <tr style=\"text-align: right;\">\n",
       "      <th></th>\n",
       "      <th>0</th>\n",
       "      <th>1</th>\n",
       "      <th>2</th>\n",
       "      <th>3</th>\n",
       "      <th>4</th>\n",
       "    </tr>\n",
       "    <tr>\n",
       "      <th>date</th>\n",
       "      <th></th>\n",
       "      <th></th>\n",
       "      <th></th>\n",
       "      <th></th>\n",
       "      <th></th>\n",
       "    </tr>\n",
       "  </thead>\n",
       "  <tbody>\n",
       "    <tr>\n",
       "      <th>2015-01-08</th>\n",
       "      <td>0.63576</td>\n",
       "      <td>0.59701</td>\n",
       "      <td>0.57511</td>\n",
       "      <td>0.58336</td>\n",
       "      <td>0.60876</td>\n",
       "    </tr>\n",
       "    <tr>\n",
       "      <th>2015-01-09</th>\n",
       "      <td>0.59381</td>\n",
       "      <td>0.57191</td>\n",
       "      <td>0.58016</td>\n",
       "      <td>0.60556</td>\n",
       "      <td>0.64856</td>\n",
       "    </tr>\n",
       "    <tr>\n",
       "      <th>2015-01-12</th>\n",
       "      <td>0.56114</td>\n",
       "      <td>0.56939</td>\n",
       "      <td>0.59479</td>\n",
       "      <td>0.63779</td>\n",
       "      <td>0.63689</td>\n",
       "    </tr>\n",
       "    <tr>\n",
       "      <th>2015-01-13</th>\n",
       "      <td>0.55716</td>\n",
       "      <td>0.58256</td>\n",
       "      <td>0.62556</td>\n",
       "      <td>0.62466</td>\n",
       "      <td>0.61006</td>\n",
       "    </tr>\n",
       "    <tr>\n",
       "      <th>2015-01-14</th>\n",
       "      <td>0.57796</td>\n",
       "      <td>0.62096</td>\n",
       "      <td>0.62006</td>\n",
       "      <td>0.60546</td>\n",
       "      <td>0.57556</td>\n",
       "    </tr>\n",
       "    <tr>\n",
       "      <th>...</th>\n",
       "      <td>...</td>\n",
       "      <td>...</td>\n",
       "      <td>...</td>\n",
       "      <td>...</td>\n",
       "      <td>...</td>\n",
       "    </tr>\n",
       "    <tr>\n",
       "      <th>2022-03-07</th>\n",
       "      <td>0.58070</td>\n",
       "      <td>0.56545</td>\n",
       "      <td>0.76945</td>\n",
       "      <td>0.57045</td>\n",
       "      <td>0.51395</td>\n",
       "    </tr>\n",
       "    <tr>\n",
       "      <th>2022-03-08</th>\n",
       "      <td>0.62420</td>\n",
       "      <td>0.82820</td>\n",
       "      <td>0.62920</td>\n",
       "      <td>0.57270</td>\n",
       "      <td>0.34570</td>\n",
       "    </tr>\n",
       "    <tr>\n",
       "      <th>2022-03-09</th>\n",
       "      <td>0.85735</td>\n",
       "      <td>0.65835</td>\n",
       "      <td>0.60185</td>\n",
       "      <td>0.37485</td>\n",
       "      <td>0.50760</td>\n",
       "    </tr>\n",
       "    <tr>\n",
       "      <th>2022-03-10</th>\n",
       "      <td>0.74105</td>\n",
       "      <td>0.68455</td>\n",
       "      <td>0.45755</td>\n",
       "      <td>0.59030</td>\n",
       "      <td>0.52655</td>\n",
       "    </tr>\n",
       "    <tr>\n",
       "      <th>2022-03-11</th>\n",
       "      <td>0.74015</td>\n",
       "      <td>0.51315</td>\n",
       "      <td>0.64590</td>\n",
       "      <td>0.58215</td>\n",
       "      <td>0.51865</td>\n",
       "    </tr>\n",
       "  </tbody>\n",
       "</table>\n",
       "<p>1800 rows × 5 columns</p>\n",
       "</div>"
      ],
      "text/plain": [
       "                  0        1        2        3        4\n",
       "date                                                   \n",
       "2015-01-08  0.63576  0.59701  0.57511  0.58336  0.60876\n",
       "2015-01-09  0.59381  0.57191  0.58016  0.60556  0.64856\n",
       "2015-01-12  0.56114  0.56939  0.59479  0.63779  0.63689\n",
       "2015-01-13  0.55716  0.58256  0.62556  0.62466  0.61006\n",
       "2015-01-14  0.57796  0.62096  0.62006  0.60546  0.57556\n",
       "...             ...      ...      ...      ...      ...\n",
       "2022-03-07  0.58070  0.56545  0.76945  0.57045  0.51395\n",
       "2022-03-08  0.62420  0.82820  0.62920  0.57270  0.34570\n",
       "2022-03-09  0.85735  0.65835  0.60185  0.37485  0.50760\n",
       "2022-03-10  0.74105  0.68455  0.45755  0.59030  0.52655\n",
       "2022-03-11  0.74015  0.51315  0.64590  0.58215  0.51865\n",
       "\n",
       "[1800 rows x 5 columns]"
      ]
     },
     "execution_count": 11,
     "metadata": {},
     "output_type": "execute_result"
    }
   ],
   "source": [
    "tot_res[1]['trainX']"
   ]
  },
  {
   "cell_type": "code",
   "execution_count": 12,
   "metadata": {},
   "outputs": [
    {
     "name": "stdout",
     "output_type": "stream",
     "text": [
      "(2251, 5)\n",
      "dict_keys(['x', 'y', 'nx', 'ny', 'numt', 'trainX', 'trainY', 'testX', 'testY', 'vdd'])\n"
     ]
    }
   ],
   "source": [
    "print(tot_res[1]['x'].shape)\n",
    "print(tot_res[1].keys())"
   ]
  },
  {
   "cell_type": "code",
   "execution_count": 13,
   "metadata": {},
   "outputs": [
    {
     "name": "stdout",
     "output_type": "stream",
     "text": [
      "(1800, 5)\n",
      "(1796, 5)\n",
      "(1790, 5)\n",
      "(1777, 5)\n",
      "(1729, 5)\n"
     ]
    }
   ],
   "source": [
    "print(tot_res[1]['trainX'].shape)\n",
    "print(tot_res[7]['trainX'].shape)\n",
    "print(tot_res[14]['trainX'].shape)\n",
    "print(tot_res[30]['trainX'].shape)\n",
    "print(tot_res[90]['trainX'].shape)"
   ]
  },
  {
   "cell_type": "code",
   "execution_count": 14,
   "metadata": {},
   "outputs": [
    {
     "name": "stdout",
     "output_type": "stream",
     "text": [
      "(451, 5)\n",
      "(449, 5)\n",
      "(448, 5)\n",
      "(445, 5)\n",
      "(433, 5)\n"
     ]
    }
   ],
   "source": [
    "print(tot_res[1]['testX'].shape)\n",
    "print(tot_res[7]['testX'].shape)\n",
    "print(tot_res[14]['testX'].shape)\n",
    "print(tot_res[30]['testX'].shape)\n",
    "print(tot_res[90]['testX'].shape)"
   ]
  },
  {
   "cell_type": "code",
   "execution_count": 15,
   "metadata": {},
   "outputs": [
    {
     "data": {
      "text/plain": [
       "dict_keys([1, 7, 14, 30, 90])"
      ]
     },
     "execution_count": 15,
     "metadata": {},
     "output_type": "execute_result"
    }
   ],
   "source": [
    "tot_res.keys()"
   ]
  },
  {
   "cell_type": "code",
   "execution_count": 67,
   "metadata": {},
   "outputs": [
    {
     "data": {
      "text/plain": [
       "Index(['PX_OPEN', 'PX_LAST', 'RSI_14D', 'PX_TREND', 'PX_VTREND',\n",
       "       'TWEET_POSTIVIE', 'TWEET_NEGATIVE', 'NEWS_POSITIVE', 'NEWS_NEGATIVE',\n",
       "       'VOLATILITY', 'MOMENTUM'],\n",
       "      dtype='object')"
      ]
     },
     "execution_count": 67,
     "metadata": {},
     "output_type": "execute_result"
    }
   ],
   "source": [
    "tot_res[7]['cnms']"
   ]
  },
  {
   "cell_type": "code",
   "execution_count": 68,
   "metadata": {},
   "outputs": [
    {
     "data": {
      "text/plain": [
       "DatetimeIndex(['2021-04-26', '2021-04-27', '2021-04-28', '2021-04-29',\n",
       "               '2021-04-30', '2021-05-03', '2021-05-04', '2021-05-05',\n",
       "               '2021-05-06', '2021-05-07',\n",
       "               ...\n",
       "               '2023-12-12', '2023-12-13', '2023-12-14', '2023-12-15',\n",
       "               '2023-12-18', '2023-12-19', '2023-12-20', '2023-12-21',\n",
       "               '2023-12-22', '2023-12-27'],\n",
       "              dtype='datetime64[ns]', name='date', length=649, freq=None)"
      ]
     },
     "execution_count": 68,
     "metadata": {},
     "output_type": "execute_result"
    }
   ],
   "source": [
    "tot_res[1]['idtest']"
   ]
  },
  {
   "cell_type": "code",
   "execution_count": 72,
   "metadata": {},
   "outputs": [
    {
     "data": {
      "text/plain": [
       "(1514, 10, 11)"
      ]
     },
     "execution_count": 72,
     "metadata": {},
     "output_type": "execute_result"
    }
   ],
   "source": [
    "tot_res[1]['trainX'].shape"
   ]
  },
  {
   "cell_type": "code",
   "execution_count": 12,
   "metadata": {},
   "outputs": [
    {
     "data": {
      "text/plain": [
       "(445, 22, 1)"
      ]
     },
     "execution_count": 12,
     "metadata": {},
     "output_type": "execute_result"
    }
   ],
   "source": [
    "testX  = tot_res['INP']['TSLA'][1]['tsX'] \n",
    "nptstX = testX.to_numpy().reshape(testX.shape[0],testX.shape[1],1)\n",
    "nptstX.shape\n"
   ]
  },
  {
   "cell_type": "code",
   "execution_count": 13,
   "metadata": {},
   "outputs": [
    {
     "data": {
      "text/plain": [
       "array([ 13.56133636,  13.54745909,  13.56361364, ..., 243.24772727,\n",
       "       243.81363636, 244.93181818])"
      ]
     },
     "execution_count": 13,
     "metadata": {},
     "output_type": "execute_result"
    }
   ],
   "source": [
    "a = tot_res['INP']['TSLA'][1]['vdd'][\"mean\"].to_numpy()\n",
    "a"
   ]
  },
  {
   "cell_type": "code",
   "execution_count": 14,
   "metadata": {},
   "outputs": [
    {
     "data": {
      "text/plain": [
       "(2223,)"
      ]
     },
     "execution_count": 14,
     "metadata": {},
     "output_type": "execute_result"
    }
   ],
   "source": [
    "tot_res['INP']['TSLA'][1]['vdd'][\"mean\"].shape"
   ]
  },
  {
   "cell_type": "code",
   "execution_count": 15,
   "metadata": {},
   "outputs": [
    {
     "data": {
      "text/plain": [
       "(2223,)"
      ]
     },
     "execution_count": 15,
     "metadata": {},
     "output_type": "execute_result"
    }
   ],
   "source": [
    "tot_res['INP']['TSLA'][1]['vdd'][\"min\"].shape"
   ]
  },
  {
   "cell_type": "code",
   "execution_count": 17,
   "metadata": {},
   "outputs": [
    {
     "data": {
      "text/plain": [
       "(2223,)"
      ]
     },
     "execution_count": 17,
     "metadata": {},
     "output_type": "execute_result"
    }
   ],
   "source": [
    "tot_res['INP']['TSLA'][1]['vdd'][\"max\"].shape"
   ]
  },
  {
   "cell_type": "code",
   "execution_count": null,
   "metadata": {},
   "outputs": [],
   "source": [
    "import os\n",
    "import pickle\n",
    "\n",
    "tmod = 'stcklstm' #stcklstm lstm\n",
    "\n",
    "def load_preprocessed_data(path, win, multi=False):\n",
    "        '''\n",
    "        Returns the preprocessed data as a list of objects\n",
    "        \n",
    "        Arguments:\n",
    "        path - path to the preprocessed data\n",
    "        win - window size\n",
    "        multi - boolean value to indicate if the data is multivariate or not\n",
    "        '''\n",
    "\n",
    "        if multi == False:\n",
    "            fdat = 'D:/Escritorio/TFG/Finance-AI/DataProcessed/model-'+tmod+'-output.pkl'\n",
    "\n",
    "        else:\n",
    "            fdat = 'D:/Escritorio/TFG/Finance-AI/DataProcessed/model-'+tmod+'-output.pkl'\n",
    "\n",
    "        with (open(fdat, \"rb\")) as openfile:\n",
    "            while True:\n",
    "                try:\n",
    "                    path      = pickle.load(openfile)\n",
    "                    fdat     = pickle.load(openfile)\n",
    "                    lahead    = pickle.load(openfile)\n",
    "                    lpar      =pickle.load(openfile)\n",
    "                    stock_list= pickle.load(openfile)\n",
    "                    tot_res   = pickle.load(openfile)\n",
    "                    df_dict   = tot_res['INP']\n",
    "                except EOFError:\n",
    "                    break\n",
    "        return path, fdat, lahead, lpar, stock_list, tot_res, df_dict\n",
    "\n",
    "path, fdat, lahead, lpar, stock_list, tot_res, df_dict = load_preprocessed_data(\"../../DataProcessed\", 22, multi=True)"
   ]
  },
  {
   "cell_type": "code",
   "execution_count": null,
   "metadata": {},
   "outputs": [
    {
     "data": {
      "text/plain": [
       "dict_keys(['MODEL', 'AAPL'])"
      ]
     },
     "execution_count": 50,
     "metadata": {},
     "output_type": "execute_result"
    }
   ],
   "source": [
    "tot_res['OUT_MODEL'].keys()"
   ]
  },
  {
   "cell_type": "code",
   "execution_count": null,
   "metadata": {},
   "outputs": [
    {
     "data": {
      "text/plain": [
       "Index(['MSEP', 'MSEY', 'Stock', 'DY', 'ALG', 'seed', 'epochs', 'nhn', 'win',\n",
       "       'ndims', 'lossh', 'nit', 'model', 'ttrain', 'bsize'],\n",
       "      dtype='object')"
      ]
     },
     "execution_count": 8,
     "metadata": {},
     "output_type": "execute_result"
    }
   ],
   "source": [
    "tot_res['OUT_MODEL']['AAPL'][1].keys()"
   ]
  },
  {
   "cell_type": "code",
   "execution_count": null,
   "metadata": {},
   "outputs": [
    {
     "data": {
      "text/plain": [
       "0    14.327103\n",
       "1    14.036024\n",
       "2    18.918038\n",
       "3    17.348941\n",
       "4    15.230134\n",
       "5    17.846885\n",
       "6    14.259746\n",
       "7    16.689693\n",
       "8    18.072058\n",
       "9    14.273346\n",
       "Name: MSEP, dtype: float64"
      ]
     },
     "execution_count": 9,
     "metadata": {},
     "output_type": "execute_result"
    }
   ],
   "source": [
    "tot_res['OUT_MODEL']['AAPL'][1]['MSEP']"
   ]
  },
  {
   "cell_type": "code",
   "execution_count": null,
   "metadata": {},
   "outputs": [
    {
     "data": {
      "text/plain": [
       "0    7.685193\n",
       "1    7.685193\n",
       "2    7.685193\n",
       "3    7.685193\n",
       "4    7.685193\n",
       "5    7.685193\n",
       "6    7.685193\n",
       "7    7.685193\n",
       "8    7.685193\n",
       "9    7.685193\n",
       "Name: MSEY, dtype: float64"
      ]
     },
     "execution_count": 10,
     "metadata": {},
     "output_type": "execute_result"
    }
   ],
   "source": [
    "tot_res['OUT_MODEL']['AAPL'][1]['MSEY']"
   ]
  },
  {
   "cell_type": "code",
   "execution_count": null,
   "metadata": {},
   "outputs": [],
   "source": [
    "pred = tot_res['OUT_MODEL']['AAPL'][1]['DY'][9]['Y_predicted']\n",
    "real = tot_res['OUT_MODEL']['AAPL'][1]['DY'][9]['Y_real']\n",
    "yesterday = tot_res['OUT_MODEL']['AAPL'][1]['DY'][9]['Y_yesterday']\n",
    "\n",
    "mse_p = tot_res['OUT_MODEL']['AAPL'][1]['MSEP']\n",
    "mse_y = tot_res['OUT_MODEL']['AAPL'][1]['MSEY']"
   ]
  },
  {
   "cell_type": "code",
   "execution_count": null,
   "metadata": {},
   "outputs": [
    {
     "data": {
      "image/png": "[encoded data removed]",
      "text/plain": [
       "<Figure size 640x480 with 1 Axes>"
      ]
     },
     "metadata": {},
     "output_type": "display_data"
    }
   ],
   "source": [
    "import matplotlib.pyplot as plt\n",
    "plt.plot(pred, label=f'Predicted MSE: {round(mse_p.mean(),2)}')\n",
    "plt.plot(real, label='Real')\n",
    "plt.plot(yesterday, label=f'Yesterday MSE: {round(mse_y.mean(),2)}')\n",
    "plt.legend()\n",
    "plt.show()"
   ]
  },
  {
   "cell_type": "code",
   "execution_count": null,
   "metadata": {},
   "outputs": [],
   "source": [
    "def stck_lstm_fun(trainX, trainY, testX, testY, Y, vdd, epoch, bsize, nhn, win, n_ftrs, ahead, stock, seed, multi):\n",
    "        '''\n",
    "        Stack LSTM model\n",
    "\n",
    "        Returns the evaluation of the model with the test data\n",
    "        \n",
    "        Arguments:\n",
    "        trainX - normalized training data\n",
    "        trainY - normalized training labels\n",
    "        testX - normalized test data\n",
    "        testY - normalized test labels\n",
    "        Y - output PX_OPEN stock\n",
    "        vdd - validation dataframe storing the data for normalization and denormalization\n",
    "        epoch - number of epochs for training\n",
    "        bsize - batch size for feeding the model\n",
    "        nhn - number of hidden neurons\n",
    "        win - window size (days considered to learn from == trainX.shape[1])\n",
    "        n_ftrs - number of expected outputs (1 in our case)\n",
    "        stock - stock being evaluated\n",
    "        ahead - shift value for the stock\n",
    "        seed - seed to stabilize the repetitions\n",
    "        '''\n",
    "        if multi:\n",
    "            nptrX = trainX.to_numpy().reshape(trainX.shape[0],trainX.shape[1],trainX.shape[2],n_ftrs)\n",
    "            nptrY = trainY.to_numpy()\n",
    "        else:\n",
    "            nptrX = trainX.to_numpy().reshape(trainX.shape[0],trainX.shape[1],n_ftrs)\n",
    "            nptrY = trainY.to_numpy()\n",
    "        nit  = 0\n",
    "        lloss= np.nan\n",
    "        while math.isnan(lloss) and nit < 5:\n",
    "            tf.random.set_seed(seed)\n",
    "            # create a very Stcked-LSTM model\n",
    "            stmodel = Sequential()\n",
    "            stmodel.add(LSTM(nhn, activation='relu', return_sequences=True, input_shape=(win,n_ftrs)))\n",
    "            stmodel.add(LSTM(nhn, activation='relu', return_sequences=True))\n",
    "            stmodel.add(LSTM(nhn, activation='relu'))\n",
    "            stmodel.add(Dense(n_ftrs)) # Output of a single value\n",
    "            stmodel.compile(loss='mean_squared_error', optimizer='adam')\n",
    "            hist = stmodel.fit(nptrX, nptrY, epochs=epoch, batch_size=bsize, verbose=0)\n",
    "            lloss= hist.history['loss'][-1]\n",
    "            nit  = nit + 1\n",
    "        # Predict\n",
    "        nptstX = testX.to_numpy().reshape(testX.shape[0],testX.shape[1],n_ftrs)\n",
    "        nptstY = testY.to_numpy()\n",
    "        res1   = eval(nptstX, nptstY, testX, stmodel, vdd, Y, ahead)\n",
    "        df_result = {'MSEP':res1.get(\"msep\"),'MSEY': res1.get(\"msey\"),'Stock':stock,\n",
    "                    'DY':res1.get(\"Ys\"),'ALG':'STACK-LSTM','seed':seed,'epochs':epoch,\n",
    "                    'nhn':nhn,'win':win ,'ndims':1, 'lossh':lloss, 'nit':nit,\n",
    "                    'model':stmodel}\n",
    "        return(df_result)\n",
    "\n"
   ]
  },
  {
   "cell_type": "code",
   "execution_count": null,
   "metadata": {},
   "outputs": [],
   "source": [
    "\n",
    "\n",
    "sol   = stck_lstm_fun(trainX,trainY,testX,testY,Y,vdd,epochs,bsize,nhn,win_size,n_ftrs,ahead,stock,seed)"
   ]
  }
 ],
 "metadata": {
  "kernelspec": {
   "display_name": "Python 3",
   "language": "python",
   "name": "python3"
  },
  "language_info": {
   "codemirror_mode": {
    "name": "ipython",
    "version": 3
   },
   "file_extension": ".py",
   "mimetype": "text/x-python",
   "name": "python",
   "nbconvert_exporter": "python",
   "pygments_lexer": "ipython3",
   "version": "3.10.12"
  }
 },
 "nbformat": 4,
 "nbformat_minor": 2
}
